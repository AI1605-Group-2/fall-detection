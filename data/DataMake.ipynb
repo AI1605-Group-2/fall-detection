{
 "cells": [
  {
   "cell_type": "code",
   "execution_count": 1,
   "metadata": {},
   "outputs": [],
   "source": [
    "from mediapipe.python.solutions import pose as mp_pose\n",
    "import mediapipe as mp\n",
    "import cv2\n",
    "import os\n",
    "import pandas as pd\n",
    "import numpy as np"
   ]
  },
  {
   "cell_type": "markdown",
   "metadata": {},
   "source": [
    "## Variables and function declaration "
   ]
  },
  {
   "cell_type": "code",
   "execution_count": 2,
   "metadata": {},
   "outputs": [],
   "source": [
    "pose = mp_pose.Pose()\n",
    "mpDraw = mp.solutions.drawing_utils"
   ]
  },
  {
   "cell_type": "code",
   "execution_count": 3,
   "metadata": {},
   "outputs": [],
   "source": [
    "def draw_landmark_on_image(mpDraw, results, img):\n",
    "    mpDraw.draw_landmarks(img, results.pose_landmarks, mp_pose.POSE_CONNECTIONS)\n",
    "\n",
    "    for id, lm in enumerate(results.pose_landmarks.landmark):\n",
    "        h, w, c = img.shape\n",
    "        print(id, lm)\n",
    "        cx, cy = int(lm.x * w), int(lm.y * h)\n",
    "        cv2.circle(img, (cx, cy), 10, (0, 0, 255), cv2.FILLED)\n",
    "    return img"
   ]
  },
  {
   "cell_type": "code",
   "execution_count": 4,
   "metadata": {},
   "outputs": [],
   "source": [
    "def make_landmark_timestep(results):\n",
    "    c_lm = []\n",
    "    for id, lm in enumerate(results.pose_landmarks.landmark):\n",
    "        c_lm.append(lm.x)\n",
    "        c_lm.append(lm.y)\n",
    "        c_lm.append(lm.z)\n",
    "        c_lm.append(lm.visibility)\n",
    "    return c_lm"
   ]
  },
  {
   "cell_type": "code",
   "execution_count": 5,
   "metadata": {},
   "outputs": [],
   "source": [
    "def getLandMark(result, poseName):\n",
    "    c_lm = []\n",
    "    fullVal = result.pose_landmarks.landmark[mp_pose.PoseLandmark._member_map_[poseName]]\n",
    "    c_lm.append([fullVal.x, fullVal.y, fullVal.z])\n",
    "    return c_lm"
   ]
  },
  {
   "cell_type": "code",
   "execution_count": 6,
   "metadata": {},
   "outputs": [],
   "source": [
    "path = 'C://python//train//'"
   ]
  },
  {
   "cell_type": "code",
   "execution_count": 7,
   "metadata": {},
   "outputs": [
    {
     "data": {
      "text/plain": [
       "8"
      ]
     },
     "execution_count": 7,
     "metadata": {},
     "output_type": "execute_result"
    }
   ],
   "source": [
    "len(os.listdir(path))"
   ]
  },
  {
   "cell_type": "markdown",
   "metadata": {},
   "source": [
    "## Try reduce some features in the dataset"
   ]
  },
  {
   "cell_type": "code",
   "execution_count": 12,
   "metadata": {},
   "outputs": [],
   "source": [
    "fallPath = path + 'fall//'\n",
    "for i in range(1, len(os.listdir(fallPath)) + 1):\n",
    "    trainPath = fallPath + 'video{}'.format(i) + '//'\n",
    "    files = os.listdir(trainPath)\n",
    "    dataFall = []\n",
    "    for file in files:\n",
    "        dataFallTemp = []\n",
    "        img = cv2.imread(trainPath + '/' + file, cv2.IMREAD_UNCHANGED)\n",
    "        result = pose.process(img)\n",
    "        if result.pose_landmarks:\n",
    "            for j in mp_pose.PoseLandmark:\n",
    "                if j.value <= 26:\n",
    "                    lm = getLandMark(result, j.name)\n",
    "                    dataFallTemp.append(lm)                \n",
    "            dataFall.append(np.array(dataFallTemp).flatten())\n",
    "        df = pd.DataFrame(dataFall)\n",
    "        df.to_csv(path + 'fall_csv_test//video{}.csv'.format(i), index=False)"
   ]
  },
  {
   "cell_type": "code",
   "execution_count": 13,
   "metadata": {},
   "outputs": [],
   "source": [
    "normalPath = path + 'normal//'\n",
    "for i in range(1, len(os.listdir(normalPath)) + 1):\n",
    "    trainPath = normalPath + 'video{}'.format(i) + '//'\n",
    "    files = os.listdir(trainPath)\n",
    "    dataNor = []\n",
    "    for file in files:\n",
    "        dataNorTemp = []\n",
    "        img = cv2.imread(trainPath + '/' + file, cv2.IMREAD_UNCHANGED)\n",
    "        result = pose.process(img)\n",
    "        if result.pose_landmarks:\n",
    "            for j in mp_pose.PoseLandmark:\n",
    "                if j.value <= 26:\n",
    "                    lm = getLandMark(result, j.name)\n",
    "                    dataNorTemp.append(lm)                \n",
    "            dataNor.append(np.array(dataNorTemp).flatten())\n",
    "        df = pd.DataFrame(dataNor)\n",
    "        df.to_csv(path + 'normal_csv_test//video{}.csv'.format(i), index=False)"
   ]
  },
  {
   "cell_type": "markdown",
   "metadata": {},
   "source": [
    "## Original dataset"
   ]
  },
  {
   "cell_type": "code",
   "execution_count": 14,
   "metadata": {},
   "outputs": [],
   "source": [
    "fallPath = path + 'fall//'\n",
    "for i in range(1, len(os.listdir(fallPath)) + 1):\n",
    "    trainPath = fallPath + 'video{}'.format(i) + '//'\n",
    "    files = os.listdir(trainPath)\n",
    "    data = []\n",
    "    for file in files:\n",
    "        img = cv2.imread(trainPath + '/' + file, cv2.IMREAD_UNCHANGED)\n",
    "        result = pose.process(img)\n",
    "        if result.pose_landmarks:\n",
    "            lm = make_landmark_timestep(result)\n",
    "            data.append(lm)\n",
    "        df = pd.DataFrame(data)\n",
    "        df.to_csv(path + 'fall_csv//video{}.csv'.format(i), index=False)"
   ]
  },
  {
   "cell_type": "code",
   "execution_count": 15,
   "metadata": {},
   "outputs": [],
   "source": [
    "normalPath = path + 'normal//'\n",
    "for i in range(1, len(os.listdir(normalPath)) + 1):\n",
    "    trainPath = normalPath + 'video{}'.format(i) + '//'\n",
    "    files = os.listdir(trainPath)\n",
    "    data = []\n",
    "    for file in files:\n",
    "        img = cv2.imread(trainPath + '/' + file, cv2.IMREAD_UNCHANGED)\n",
    "        result = pose.process(img)\n",
    "        if result.pose_landmarks:\n",
    "            lm = make_landmark_timestep(result)\n",
    "            data.append(lm)\n",
    "        df = pd.DataFrame(data)\n",
    "        df.to_csv(path + 'normal_csv//video{}.csv'.format(i), index=False)"
   ]
  }
 ],
 "metadata": {
  "interpreter": {
   "hash": "deb65e8d8c8d3656d5eca6fd886d98fa2b79fbd5bd98f1dd28f9364634e8977d"
  },
  "kernelspec": {
   "display_name": "Python 3.9.12 ('tf_gpu')",
   "language": "python",
   "name": "python3"
  },
  "language_info": {
   "codemirror_mode": {
    "name": "ipython",
    "version": 3
   },
   "file_extension": ".py",
   "mimetype": "text/x-python",
   "name": "python",
   "nbconvert_exporter": "python",
   "pygments_lexer": "ipython3",
   "version": "3.9.12"
  },
  "orig_nbformat": 4
 },
 "nbformat": 4,
 "nbformat_minor": 2
}
