{
 "cells": [
  {
   "cell_type": "code",
   "execution_count": 80,
   "metadata": {},
   "outputs": [],
   "source": [
    "from mediapipe.python.solutions import pose as mp_pose\n",
    "import mediapipe as mp\n",
    "import cv2\n",
    "import os\n",
    "import pandas as pd\n",
    "import numpy as np"
   ]
  },
  {
   "cell_type": "code",
   "execution_count": 81,
   "metadata": {},
   "outputs": [],
   "source": [
    "pose = mp_pose.Pose()\n",
    "mpDraw = mp.solutions.drawing_utils"
   ]
  },
  {
   "cell_type": "code",
   "execution_count": 82,
   "metadata": {},
   "outputs": [],
   "source": [
    "def distanceCal(heighPoint: float, heightMax: float) -> float:\n",
    "    \"\"\"Calculate the distance between each height and the minimum height.\n",
    "\n",
    "    Args:\n",
    "        heighPoint (float): Real y-coordinate of the keypoint\n",
    "        heightMax (float): Maximum y-coordinate of the keypoint in first frame\n",
    "\n",
    "    Returns:\n",
    "        float: Distance from the keypoint to the ground\n",
    "    \"\"\"\n",
    "    return abs(heighPoint - heightMax)"
   ]
  },
  {
   "cell_type": "code",
   "execution_count": 83,
   "metadata": {},
   "outputs": [],
   "source": [
    "def findMax(heightList: np.array) -> int:\n",
    "    \"\"\"\n",
    "    Find the minimum height in the height list.\n",
    "    \"\"\"\n",
    "    return round(np.max(heightList), 10)"
   ]
  },
  {
   "cell_type": "code",
   "execution_count": 84,
   "metadata": {},
   "outputs": [],
   "source": [
    "def getLandMark(result, poseName: str) -> float:\n",
    "    \"\"\"\n",
    "    Return the current y-coordinate of the landmark.\n",
    "    \"\"\"\n",
    "    if poseName.lower() == 'neck':\n",
    "        return round(0.5* (getLandMark(result,'RIGHT_SHOULDER') + getLandMark(result,'LEFT_SHOULDER')), 10)\n",
    "    elif poseName.lower() == 'torso':\n",
    "        return round(0.5* (getLandMark(result, 'RIGHT_HIP') + getLandMark(result, 'LEFT_HIP')), 10) \n",
    "    return round(result.pose_world_landmarks.landmark[mp_pose.PoseLandmark._member_map_[poseName]].y,10)"
   ]
  },
  {
   "cell_type": "code",
   "execution_count": 105,
   "metadata": {},
   "outputs": [],
   "source": [
    "def getFileKeypoints(path: str, choice: str) -> list:\n",
    "    \"\"\"\n",
    "    This use to calculate max height of keypoints in the first frame and all y-coordinates of keypoints in the first frame.\n",
    "\n",
    "    Returns:\n",
    "        list: First list is the max height of keypoints in the first frame and the second list is all y-coordinates of keypoints in the first frame.\n",
    "    \"\"\"\n",
    "    maxHeight = []\n",
    "    data = []\n",
    "    path = path + choice + '//'\n",
    "    for i in range(1, len(os.listdir(path)) + 1):\n",
    "        count = 0\n",
    "        trainPath = path + 'video{}'.format(i) + '//'\n",
    "        files = os.listdir(trainPath)\n",
    "        keypoints = []\n",
    "        img = cv2.imread(trainPath + '/' + files[count], cv2.IMREAD_COLOR)\n",
    "        img = cv2.resize(img, (320,240))\n",
    "        pose.reset()\n",
    "        result = pose.process(cv2.cvtColor(img, cv2.COLOR_BGR2RGB))\n",
    "        while not result.pose_landmarks:\n",
    "            count += 1\n",
    "            img = cv2.imread(trainPath + '/' + files[count], cv2.IMREAD_COLOR)\n",
    "            img = cv2.resize(img, (320,240))\n",
    "            pose.reset()\n",
    "            result = pose.process(cv2.cvtColor(img, cv2.COLOR_BGR2RGB))\n",
    "        for j in poseName:\n",
    "            lm = getLandMark(result, j)\n",
    "            keypoints.append(lm)\n",
    "        maxHeight.append(findMax(keypoints[:len(keypoints) - 2]))\n",
    "        data.append(keypoints)\n",
    "    return maxHeight, data"
   ]
  },
  {
   "cell_type": "code",
   "execution_count": 86,
   "metadata": {},
   "outputs": [],
   "source": [
    "def velocityCal(point1: float, point2: float, frame: int) -> float:\n",
    "    \"\"\"Calculate the velocity of the keypoint.\n",
    "\n",
    "    Args:\n",
    "        point1 (float): y-coordinate of the keypoint in the first frame.\n",
    "        point2 (float): y-coordinate of the keypoint in every next frame.\n",
    "        frame (int): frame to calculate the velocity.\n",
    "\n",
    "    Returns:\n",
    "        float: velocity of each keypoints in full video.\n",
    "    \"\"\"\n",
    "    if frame == 1:\n",
    "        return 0\n",
    "    return round(((point2 - point1) / (float(frame) - 1)), 10)"
   ]
  },
  {
   "cell_type": "code",
   "execution_count": 87,
   "metadata": {},
   "outputs": [],
   "source": [
    "def diffCal(point1: float, point2: float) -> float:\n",
    "    \"\"\"Calculate distance difference between each frame keypoints and first frame keypoints.\n",
    "\n",
    "    Args:\n",
    "        point1 (float): y-coordinate of the keypoint in the first frame.\n",
    "        point2 (float): y-coordinate of the keypoint in every next frame.\n",
    "\n",
    "    Returns:\n",
    "        float: distance difference between each frame keypoints and first frame keypoints.\n",
    "    \"\"\"\n",
    "    return round(point2 - point1, 10)"
   ]
  },
  {
   "cell_type": "code",
   "execution_count": 88,
   "metadata": {},
   "outputs": [],
   "source": [
    "path = 'C://python//train//'"
   ]
  },
  {
   "cell_type": "code",
   "execution_count": 89,
   "metadata": {},
   "outputs": [],
   "source": [
    "poseName = ['NOSE', 'LEFT_SHOULDER', 'RIGHT_SHOULDER', 'neck', 'LEFT_ELBOW', 'RIGHT_ELBOW','LEFT_WRIST', 'RIGHT_WRIST', 'LEFT_HIP', 'RIGHT_HIP','torso', 'LEFT_KNEE', 'RIGHT_KNEE', 'LEFT_ANKLE', 'RIGHT_ANKLE', 'LEFT_FOOT_INDEX', 'RIGHT_FOOT_INDEX']"
   ]
  },
  {
   "cell_type": "code",
   "execution_count": 90,
   "metadata": {},
   "outputs": [
    {
     "data": {
      "text/plain": [
       "17"
      ]
     },
     "execution_count": 90,
     "metadata": {},
     "output_type": "execute_result"
    }
   ],
   "source": [
    "len(poseName)"
   ]
  },
  {
   "cell_type": "code",
   "execution_count": 106,
   "metadata": {},
   "outputs": [],
   "source": [
    "maxHeightFall, keypointsFall = getFileKeypoints(path, 'fall')\n",
    "maxHeightNor, keypointsNor = getFileKeypoints(path, 'normal')"
   ]
  },
  {
   "cell_type": "code",
   "execution_count": 92,
   "metadata": {},
   "outputs": [],
   "source": [
    "def flatten(lst: list) -> list:\n",
    "    return [x for xs in lst for x in xs]"
   ]
  },
  {
   "cell_type": "code",
   "execution_count": 93,
   "metadata": {},
   "outputs": [],
   "source": [
    "def concatenate(a: list, b: list) -> list:\n",
    "    c = list(map(list, zip(a, b)))\n",
    "    return flatten(c)"
   ]
  },
  {
   "cell_type": "markdown",
   "metadata": {},
   "source": [
    "## Velocity calculation approach"
   ]
  },
  {
   "cell_type": "code",
   "execution_count": 94,
   "metadata": {},
   "outputs": [],
   "source": [
    "fallPath = path + 'fall//'\n",
    "for i in range(1, len(os.listdir(fallPath)) + 1):\n",
    "    frame = 1\n",
    "    trainPath = fallPath + 'video{}'.format(i) + '//'\n",
    "    files = os.listdir(trainPath)\n",
    "    dataFall = []\n",
    "    for file in files:\n",
    "        dataTemp = []\n",
    "        velocityData = []\n",
    "        img = cv2.imread(trainPath + '/' + file, cv2.IMREAD_COLOR)\n",
    "        img = cv2.resize(img, (320,240))\n",
    "        pose.reset()\n",
    "        result = pose.process(cv2.cvtColor(img, cv2.COLOR_BGR2RGB))\n",
    "        if result.pose_landmarks:          \n",
    "            for j in poseName[:len(poseName) - 2]:\n",
    "                lm = getLandMark(result, j)\n",
    "                velocity = velocityCal(distanceCal(lm, maxHeightFall[i-1]), distanceCal(keypointsFall[i-1][poseName.index(j)], maxHeightFall[i-1]), frame)\n",
    "                dataTemp.append(distanceCal(lm, maxHeightFall[i-1]))\n",
    "                velocityData.append(velocity)\n",
    "            dataFall.append(concatenate(dataTemp, velocityData))\n",
    "            frame += 1\n",
    "        df = pd.DataFrame(dataFall)\n",
    "        df.to_csv(path + 'fall_csv_new//video{}.csv'.format(i), index=False)"
   ]
  },
  {
   "cell_type": "code",
   "execution_count": 95,
   "metadata": {},
   "outputs": [],
   "source": [
    "normalPath = path + 'normal//'\n",
    "for i in range(1, len(os.listdir(normalPath)) + 1):\n",
    "    frame = 1\n",
    "    trainPath = normalPath + 'video{}'.format(i) + '//'\n",
    "    files = os.listdir(trainPath)\n",
    "    dataNor = []\n",
    "    for file in files:\n",
    "        dataTemp = []\n",
    "        velocityData = []\n",
    "        img = cv2.imread(trainPath + '/' + file, cv2.IMREAD_COLOR)\n",
    "        img = cv2.resize(img, (320,240))\n",
    "        pose.reset()\n",
    "        result = pose.process(cv2.cvtColor(img, cv2.COLOR_BGR2RGB))\n",
    "        if result.pose_landmarks:          \n",
    "            for j in poseName[:len(poseName) - 2]:\n",
    "                lm = getLandMark(result, j)\n",
    "                velocity = velocityCal(distanceCal(lm, maxHeightNor[i-1]), distanceCal(keypointsNor[i-1][poseName.index(j)], maxHeightNor[i-1]), frame)\n",
    "                dataTemp.append(distanceCal(lm, maxHeightNor[i-1]))\n",
    "                velocityData.append(velocity)\n",
    "            dataNor.append(concatenate(dataTemp, velocityData))\n",
    "            frame += 1\n",
    "        df = pd.DataFrame(dataNor)\n",
    "        df.to_csv(path + 'normal_csv_new//video{}.csv'.format(i), index=False)"
   ]
  },
  {
   "cell_type": "markdown",
   "metadata": {},
   "source": [
    "## Distance difference calculation approach"
   ]
  },
  {
   "cell_type": "code",
   "execution_count": 96,
   "metadata": {},
   "outputs": [],
   "source": [
    "fallPath = path + 'fall//'\n",
    "for i in range(1, len(os.listdir(fallPath)) + 1):\n",
    "    trainPath = fallPath + 'video{}'.format(i) + '//'\n",
    "    files = os.listdir(trainPath)\n",
    "    dataFall = []\n",
    "    for file in files:\n",
    "        dataTemp = []\n",
    "        differenceData = []\n",
    "        img = cv2.imread(trainPath + '/' + file, cv2.IMREAD_COLOR)\n",
    "        img = cv2.resize(img, (320,240))\n",
    "        pose.reset()\n",
    "        result = pose.process(cv2.cvtColor(img, cv2.COLOR_BGR2RGB))\n",
    "        if result.pose_landmarks:          \n",
    "            for j in poseName[:len(poseName) - 2]:\n",
    "                lm = getLandMark(result, j)\n",
    "                difference = diffCal(distanceCal(lm, maxHeightFall[i-1]), distanceCal(keypointsFall[i-1][poseName.index(j)], maxHeightFall[i-1]))\n",
    "                dataTemp.append(distanceCal(lm, maxHeightFall[i-1]))\n",
    "                differenceData.append(difference)\n",
    "            dataFall.append(concatenate(dataTemp, differenceData))\n",
    "        df = pd.DataFrame(dataFall)\n",
    "        df.to_csv(path + 'fall_csv_new_test//video{}.csv'.format(i), index=False)"
   ]
  },
  {
   "cell_type": "code",
   "execution_count": 97,
   "metadata": {},
   "outputs": [],
   "source": [
    "normalPath = path + 'normal//'\n",
    "for i in range(1, len(os.listdir(normalPath)) + 1):\n",
    "    frame = 1\n",
    "    trainPath = normalPath + 'video{}'.format(i) + '//'\n",
    "    files = os.listdir(trainPath)\n",
    "    dataNor = []\n",
    "    for file in files:\n",
    "        dataTemp = []\n",
    "        differenceData = []\n",
    "        img = cv2.imread(trainPath + '/' + file, cv2.IMREAD_COLOR)\n",
    "        img = cv2.resize(img, (320,240))\n",
    "        pose.reset()\n",
    "        result = pose.process(cv2.cvtColor(img, cv2.COLOR_BGR2RGB))\n",
    "        if result.pose_landmarks:          \n",
    "            for j in poseName[:len(poseName) - 2]:\n",
    "                lm = getLandMark(result, j)\n",
    "                difference = diffCal(distanceCal(lm, maxHeightNor[i-1]), distanceCal(keypointsNor[i-1][poseName.index(j)], maxHeightNor[i-1]))\n",
    "                dataTemp.append(distanceCal(lm, maxHeightNor[i-1]))\n",
    "                differenceData.append(difference)\n",
    "            dataNor.append(concatenate(dataTemp, differenceData))\n",
    "            frame += 1\n",
    "        df = pd.DataFrame(dataNor)\n",
    "        df.to_csv(path + 'normal_csv_new_test//video{}.csv'.format(i), index=False)"
   ]
  }
 ],
 "metadata": {
  "kernelspec": {
   "display_name": "Python 3.9.12 ('tf_gpu')",
   "language": "python",
   "name": "python3"
  },
  "language_info": {
   "codemirror_mode": {
    "name": "ipython",
    "version": 3
   },
   "file_extension": ".py",
   "mimetype": "text/x-python",
   "name": "python",
   "nbconvert_exporter": "python",
   "pygments_lexer": "ipython3",
   "version": "3.9.12"
  },
  "orig_nbformat": 4,
  "vscode": {
   "interpreter": {
    "hash": "deb65e8d8c8d3656d5eca6fd886d98fa2b79fbd5bd98f1dd28f9364634e8977d"
   }
  }
 },
 "nbformat": 4,
 "nbformat_minor": 2
}
