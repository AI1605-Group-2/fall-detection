{
 "cells": [
  {
   "cell_type": "code",
   "execution_count": 13,
   "metadata": {},
   "outputs": [],
   "source": [
    "import pandas as pd\n",
    "import plotly.graph_objects as go\n",
    "import os\n",
    "import cv2\n",
    "from mediapipe.python.solutions import pose as mp_pose\n",
    "import mediapipe as mp\n",
    "import plotly.express as px\n",
    "import matplotlib.pyplot as plt\n",
    "\n",
    "_PRESENCE_THRESHOLD = 0.5\n",
    "_VISIBILITY_THRESHOLD = 0.5\n",
    "\n",
    "\n",
    "def plot_landmarks(\n",
    "    landmark_list,\n",
    "    connections=None,\n",
    "):\n",
    "    if not landmark_list:\n",
    "        return\n",
    "    plotted_landmarks = {}\n",
    "    for idx, landmark in enumerate(landmark_list.landmark):\n",
    "        if (\n",
    "            landmark.HasField(\"visibility\")\n",
    "            and landmark.visibility < _VISIBILITY_THRESHOLD\n",
    "        ) or (\n",
    "            landmark.HasField(\"presence\") and landmark.presence < _PRESENCE_THRESHOLD\n",
    "        ):\n",
    "            continue\n",
    "        plotted_landmarks[idx] = (-landmark.z, landmark.x, -landmark.y)\n",
    "    if connections:\n",
    "        out_cn = []\n",
    "        num_landmarks = len(landmark_list.landmark)\n",
    "        # Draws the connections if the start and end landmarks are both visible.\n",
    "        for connection in connections:\n",
    "            start_idx = connection[0]\n",
    "            end_idx = connection[1]\n",
    "            if not (0 <= start_idx < num_landmarks and 0 <= end_idx < num_landmarks):\n",
    "                raise ValueError(\n",
    "                    f\"Landmark index is out of range. Invalid connection \"\n",
    "                    f\"from landmark #{start_idx} to landmark #{end_idx}.\"\n",
    "                )\n",
    "            if start_idx in plotted_landmarks and end_idx in plotted_landmarks:\n",
    "                landmark_pair = [\n",
    "                    plotted_landmarks[start_idx],\n",
    "                    plotted_landmarks[end_idx],\n",
    "                ]\n",
    "                out_cn.append(\n",
    "                    dict(\n",
    "                        xs=[landmark_pair[0][0], landmark_pair[1][0]],\n",
    "                        ys=[landmark_pair[0][1], landmark_pair[1][1]],\n",
    "                        zs=[landmark_pair[0][2], landmark_pair[1][2]],\n",
    "                    )\n",
    "                )\n",
    "        cn2 = {\"xs\": [], \"ys\": [], \"zs\": []}\n",
    "        for pair in out_cn:\n",
    "            for k in pair.keys():\n",
    "                cn2[k].append(pair[k][0])\n",
    "                cn2[k].append(pair[k][1])\n",
    "                cn2[k].append(None)\n",
    "\n",
    "    df = pd.DataFrame(plotted_landmarks).T.rename(columns={0: \"z\", 1: \"x\", 2: \"y\"})\n",
    "    df[\"lm\"] = df.index.map(lambda s: mp_pose.PoseLandmark(s).name).values\n",
    "    fig = (\n",
    "        px.scatter_3d(df, x=\"z\", y=\"x\", z=\"y\", hover_name=\"lm\")\n",
    "        .update_traces(marker={\"color\": \"red\"})\n",
    "        .update_layout(\n",
    "            margin={\"l\": 0, \"r\": 0, \"t\": 0, \"b\": 0},\n",
    "            scene={\"camera\": {\"eye\": {\"x\": 2.1, \"y\": 0, \"z\": 0}}},\n",
    "        )\n",
    "    )\n",
    "    fig.add_traces(\n",
    "        [\n",
    "            go.Scatter3d(\n",
    "                x=cn2[\"xs\"],\n",
    "                y=cn2[\"ys\"],\n",
    "                z=cn2[\"zs\"],\n",
    "                mode=\"lines\",\n",
    "                line={\"color\": \"black\", \"width\": 5},\n",
    "                name=\"connections\",\n",
    "            )\n",
    "        ]\n",
    "    )\n",
    "\n",
    "    return fig"
   ]
  },
  {
   "cell_type": "code",
   "execution_count": 14,
   "metadata": {},
   "outputs": [],
   "source": [
    "path = 'C://python//train//fall/video1/fall-01-cam0-rgb-115.png'\n",
    "# a = os.listdir(path)"
   ]
  },
  {
   "cell_type": "code",
   "execution_count": 15,
   "metadata": {},
   "outputs": [],
   "source": [
    "#find filename in a\n"
   ]
  },
  {
   "cell_type": "code",
   "execution_count": 16,
   "metadata": {},
   "outputs": [],
   "source": [
    "img = cv2.imread(path, cv2.IMREAD_COLOR)"
   ]
  },
  {
   "cell_type": "code",
   "execution_count": 17,
   "metadata": {},
   "outputs": [],
   "source": [
    "pose = mp_pose.Pose()\n",
    "mpDraw = mp.solutions.drawing_utils"
   ]
  },
  {
   "cell_type": "code",
   "execution_count": 18,
   "metadata": {},
   "outputs": [],
   "source": [
    "pose.reset()"
   ]
  },
  {
   "cell_type": "code",
   "execution_count": 19,
   "metadata": {},
   "outputs": [],
   "source": [
    "result = pose.process(cv2.cvtColor(img, cv2.COLOR_BGR2RGB))"
   ]
  },
  {
   "cell_type": "code",
   "execution_count": 20,
   "metadata": {},
   "outputs": [],
   "source": [
    "def getPoint(name):\n",
    "    if name.lower() == 'neck':\n",
    "        return round(0.5* (getPoint('RIGHT_SHOULDER') + getPoint('LEFT_SHOULDER')), 10)\n",
    "    return result.pose_world_landmarks.landmark[mp_pose.PoseLandmark._member_map_[name]].y"
   ]
  },
  {
   "cell_type": "code",
   "execution_count": 21,
   "metadata": {},
   "outputs": [
    {
     "data": {
      "text/plain": [
       "0.0807434581"
      ]
     },
     "execution_count": 21,
     "metadata": {},
     "output_type": "execute_result"
    }
   ],
   "source": [
    "getPoint('neck')"
   ]
  },
  {
   "cell_type": "code",
   "execution_count": 22,
   "metadata": {},
   "outputs": [
    {
     "data": {
      "text/plain": [
       "-0.08275442570447922"
      ]
     },
     "execution_count": 22,
     "metadata": {},
     "output_type": "execute_result"
    }
   ],
   "source": [
    "getPoint('RIGHT_SHOULDER')"
   ]
  },
  {
   "cell_type": "code",
   "execution_count": 23,
   "metadata": {},
   "outputs": [
    {
     "data": {
      "text/plain": [
       "-0.04665115848183632"
      ]
     },
     "execution_count": 23,
     "metadata": {},
     "output_type": "execute_result"
    }
   ],
   "source": [
    "getPoint('RIGHT_ANKLE')"
   ]
  },
  {
   "cell_type": "code",
   "execution_count": 24,
   "metadata": {},
   "outputs": [
    {
     "data": {
      "text/plain": [
       "0.1479930281639099"
      ]
     },
     "execution_count": 24,
     "metadata": {},
     "output_type": "execute_result"
    }
   ],
   "source": [
    "getPoint('LEFT_ANKLE')"
   ]
  },
  {
   "cell_type": "code",
   "execution_count": 25,
   "metadata": {},
   "outputs": [
    {
     "data": {
      "text/plain": [
       "0.24424134194850922"
      ]
     },
     "execution_count": 25,
     "metadata": {},
     "output_type": "execute_result"
    }
   ],
   "source": [
    "getPoint('LEFT_SHOULDER')"
   ]
  },
  {
   "cell_type": "code",
   "execution_count": 26,
   "metadata": {},
   "outputs": [
    {
     "data": {
      "application/vnd.plotly.v1+json": {
       "config": {
        "plotlyServerURL": "https://plot.ly"
       },
       "data": [
        {
         "hovertemplate": "<b>%{hovertext}</b><br><br>z=%{x}<br>x=%{y}<br>y=%{z}<extra></extra>",
         "hovertext": [
          "NOSE",
          "LEFT_EYE_INNER",
          "LEFT_EYE",
          "LEFT_EYE_OUTER",
          "RIGHT_EYE_INNER",
          "RIGHT_EYE",
          "RIGHT_EYE_OUTER",
          "LEFT_EAR",
          "RIGHT_EAR",
          "MOUTH_LEFT",
          "MOUTH_RIGHT",
          "LEFT_SHOULDER",
          "RIGHT_SHOULDER",
          "LEFT_ELBOW",
          "LEFT_HIP",
          "RIGHT_HIP"
         ],
         "legendgroup": "",
         "marker": {
          "color": "red",
          "symbol": "circle"
         },
         "mode": "markers",
         "name": "",
         "scene": "scene",
         "showlegend": false,
         "type": "scatter3d",
         "x": [
          0.10246127843856812,
          0.14191961288452148,
          0.14104224741458893,
          0.14101167023181915,
          0.14148342609405518,
          0.14223356544971466,
          0.14175739884376526,
          0.20643019676208496,
          0.2129618376493454,
          0.11274386942386627,
          0.11448942869901657,
          0.20173555612564087,
          0.16772553324699402,
          0.07768744230270386,
          -0.0012867354089394212,
          0.00001938653258548584
         ],
         "y": [
          -0.5767025947570801,
          -0.5698425769805908,
          -0.570141077041626,
          -0.5701889395713806,
          -0.5747965574264526,
          -0.5755774974822998,
          -0.5765121579170227,
          -0.464812695980072,
          -0.49776721000671387,
          -0.5299987196922302,
          -0.5381247401237488,
          -0.2656138241291046,
          -0.36018168926239014,
          -0.12901818752288818,
          0.023407865315675735,
          -0.025515133515000343
         ],
         "z": [
          -0.13282229006290436,
          -0.15764856338500977,
          -0.15762421488761902,
          -0.15792977809906006,
          -0.12015658617019653,
          -0.12004859000444412,
          -0.12124525755643845,
          -0.2046026587486267,
          -0.04845128208398819,
          -0.14599865674972534,
          -0.10119211673736572,
          -0.24424134194850922,
          0.08275442570447922,
          -0.33682382106781006,
          -0.10209016501903534,
          0.10128401964902878
         ]
        },
        {
         "line": {
          "color": "black",
          "width": 5
         },
         "mode": "lines",
         "name": "connections",
         "type": "scatter3d",
         "x": [
          0.14101167023181915,
          0.20643019676208496,
          null,
          0.20173555612564087,
          -0.0012867354089394212,
          null,
          0.14175739884376526,
          0.2129618376493454,
          null,
          0.14148342609405518,
          0.14223356544971466,
          null,
          0.14223356544971466,
          0.14175739884376526,
          null,
          0.16772553324699402,
          0.00001938653258548584,
          null,
          -0.0012867354089394212,
          0.00001938653258548584,
          null,
          0.10246127843856812,
          0.14191961288452148,
          null,
          0.11274386942386627,
          0.11448942869901657,
          null,
          0.14191961288452148,
          0.14104224741458893,
          null,
          0.10246127843856812,
          0.14148342609405518,
          null,
          0.20173555612564087,
          0.07768744230270386,
          null,
          0.14104224741458893,
          0.14101167023181915,
          null,
          0.20173555612564087,
          0.16772553324699402,
          null
         ],
         "y": [
          -0.5701889395713806,
          -0.464812695980072,
          null,
          -0.2656138241291046,
          0.023407865315675735,
          null,
          -0.5765121579170227,
          -0.49776721000671387,
          null,
          -0.5747965574264526,
          -0.5755774974822998,
          null,
          -0.5755774974822998,
          -0.5765121579170227,
          null,
          -0.36018168926239014,
          -0.025515133515000343,
          null,
          0.023407865315675735,
          -0.025515133515000343,
          null,
          -0.5767025947570801,
          -0.5698425769805908,
          null,
          -0.5299987196922302,
          -0.5381247401237488,
          null,
          -0.5698425769805908,
          -0.570141077041626,
          null,
          -0.5767025947570801,
          -0.5747965574264526,
          null,
          -0.2656138241291046,
          -0.12901818752288818,
          null,
          -0.570141077041626,
          -0.5701889395713806,
          null,
          -0.2656138241291046,
          -0.36018168926239014,
          null
         ],
         "z": [
          -0.15792977809906006,
          -0.2046026587486267,
          null,
          -0.24424134194850922,
          -0.10209016501903534,
          null,
          -0.12124525755643845,
          -0.04845128208398819,
          null,
          -0.12015658617019653,
          -0.12004859000444412,
          null,
          -0.12004859000444412,
          -0.12124525755643845,
          null,
          0.08275442570447922,
          0.10128401964902878,
          null,
          -0.10209016501903534,
          0.10128401964902878,
          null,
          -0.13282229006290436,
          -0.15764856338500977,
          null,
          -0.14599865674972534,
          -0.10119211673736572,
          null,
          -0.15764856338500977,
          -0.15762421488761902,
          null,
          -0.13282229006290436,
          -0.12015658617019653,
          null,
          -0.24424134194850922,
          -0.33682382106781006,
          null,
          -0.15762421488761902,
          -0.15792977809906006,
          null,
          -0.24424134194850922,
          0.08275442570447922,
          null
         ]
        }
       ],
       "layout": {
        "legend": {
         "tracegroupgap": 0
        },
        "margin": {
         "b": 0,
         "l": 0,
         "r": 0,
         "t": 0
        },
        "scene": {
         "camera": {
          "eye": {
           "x": 2.1,
           "y": 0,
           "z": 0
          }
         },
         "domain": {
          "x": [
           0,
           1
          ],
          "y": [
           0,
           1
          ]
         },
         "xaxis": {
          "title": {
           "text": "z"
          }
         },
         "yaxis": {
          "title": {
           "text": "x"
          }
         },
         "zaxis": {
          "title": {
           "text": "y"
          }
         }
        },
        "template": {
         "data": {
          "bar": [
           {
            "error_x": {
             "color": "#2a3f5f"
            },
            "error_y": {
             "color": "#2a3f5f"
            },
            "marker": {
             "line": {
              "color": "#E5ECF6",
              "width": 0.5
             },
             "pattern": {
              "fillmode": "overlay",
              "size": 10,
              "solidity": 0.2
             }
            },
            "type": "bar"
           }
          ],
          "barpolar": [
           {
            "marker": {
             "line": {
              "color": "#E5ECF6",
              "width": 0.5
             },
             "pattern": {
              "fillmode": "overlay",
              "size": 10,
              "solidity": 0.2
             }
            },
            "type": "barpolar"
           }
          ],
          "carpet": [
           {
            "aaxis": {
             "endlinecolor": "#2a3f5f",
             "gridcolor": "white",
             "linecolor": "white",
             "minorgridcolor": "white",
             "startlinecolor": "#2a3f5f"
            },
            "baxis": {
             "endlinecolor": "#2a3f5f",
             "gridcolor": "white",
             "linecolor": "white",
             "minorgridcolor": "white",
             "startlinecolor": "#2a3f5f"
            },
            "type": "carpet"
           }
          ],
          "choropleth": [
           {
            "colorbar": {
             "outlinewidth": 0,
             "ticks": ""
            },
            "type": "choropleth"
           }
          ],
          "contour": [
           {
            "colorbar": {
             "outlinewidth": 0,
             "ticks": ""
            },
            "colorscale": [
             [
              0,
              "#0d0887"
             ],
             [
              0.1111111111111111,
              "#46039f"
             ],
             [
              0.2222222222222222,
              "#7201a8"
             ],
             [
              0.3333333333333333,
              "#9c179e"
             ],
             [
              0.4444444444444444,
              "#bd3786"
             ],
             [
              0.5555555555555556,
              "#d8576b"
             ],
             [
              0.6666666666666666,
              "#ed7953"
             ],
             [
              0.7777777777777778,
              "#fb9f3a"
             ],
             [
              0.8888888888888888,
              "#fdca26"
             ],
             [
              1,
              "#f0f921"
             ]
            ],
            "type": "contour"
           }
          ],
          "contourcarpet": [
           {
            "colorbar": {
             "outlinewidth": 0,
             "ticks": ""
            },
            "type": "contourcarpet"
           }
          ],
          "heatmap": [
           {
            "colorbar": {
             "outlinewidth": 0,
             "ticks": ""
            },
            "colorscale": [
             [
              0,
              "#0d0887"
             ],
             [
              0.1111111111111111,
              "#46039f"
             ],
             [
              0.2222222222222222,
              "#7201a8"
             ],
             [
              0.3333333333333333,
              "#9c179e"
             ],
             [
              0.4444444444444444,
              "#bd3786"
             ],
             [
              0.5555555555555556,
              "#d8576b"
             ],
             [
              0.6666666666666666,
              "#ed7953"
             ],
             [
              0.7777777777777778,
              "#fb9f3a"
             ],
             [
              0.8888888888888888,
              "#fdca26"
             ],
             [
              1,
              "#f0f921"
             ]
            ],
            "type": "heatmap"
           }
          ],
          "heatmapgl": [
           {
            "colorbar": {
             "outlinewidth": 0,
             "ticks": ""
            },
            "colorscale": [
             [
              0,
              "#0d0887"
             ],
             [
              0.1111111111111111,
              "#46039f"
             ],
             [
              0.2222222222222222,
              "#7201a8"
             ],
             [
              0.3333333333333333,
              "#9c179e"
             ],
             [
              0.4444444444444444,
              "#bd3786"
             ],
             [
              0.5555555555555556,
              "#d8576b"
             ],
             [
              0.6666666666666666,
              "#ed7953"
             ],
             [
              0.7777777777777778,
              "#fb9f3a"
             ],
             [
              0.8888888888888888,
              "#fdca26"
             ],
             [
              1,
              "#f0f921"
             ]
            ],
            "type": "heatmapgl"
           }
          ],
          "histogram": [
           {
            "marker": {
             "pattern": {
              "fillmode": "overlay",
              "size": 10,
              "solidity": 0.2
             }
            },
            "type": "histogram"
           }
          ],
          "histogram2d": [
           {
            "colorbar": {
             "outlinewidth": 0,
             "ticks": ""
            },
            "colorscale": [
             [
              0,
              "#0d0887"
             ],
             [
              0.1111111111111111,
              "#46039f"
             ],
             [
              0.2222222222222222,
              "#7201a8"
             ],
             [
              0.3333333333333333,
              "#9c179e"
             ],
             [
              0.4444444444444444,
              "#bd3786"
             ],
             [
              0.5555555555555556,
              "#d8576b"
             ],
             [
              0.6666666666666666,
              "#ed7953"
             ],
             [
              0.7777777777777778,
              "#fb9f3a"
             ],
             [
              0.8888888888888888,
              "#fdca26"
             ],
             [
              1,
              "#f0f921"
             ]
            ],
            "type": "histogram2d"
           }
          ],
          "histogram2dcontour": [
           {
            "colorbar": {
             "outlinewidth": 0,
             "ticks": ""
            },
            "colorscale": [
             [
              0,
              "#0d0887"
             ],
             [
              0.1111111111111111,
              "#46039f"
             ],
             [
              0.2222222222222222,
              "#7201a8"
             ],
             [
              0.3333333333333333,
              "#9c179e"
             ],
             [
              0.4444444444444444,
              "#bd3786"
             ],
             [
              0.5555555555555556,
              "#d8576b"
             ],
             [
              0.6666666666666666,
              "#ed7953"
             ],
             [
              0.7777777777777778,
              "#fb9f3a"
             ],
             [
              0.8888888888888888,
              "#fdca26"
             ],
             [
              1,
              "#f0f921"
             ]
            ],
            "type": "histogram2dcontour"
           }
          ],
          "mesh3d": [
           {
            "colorbar": {
             "outlinewidth": 0,
             "ticks": ""
            },
            "type": "mesh3d"
           }
          ],
          "parcoords": [
           {
            "line": {
             "colorbar": {
              "outlinewidth": 0,
              "ticks": ""
             }
            },
            "type": "parcoords"
           }
          ],
          "pie": [
           {
            "automargin": true,
            "type": "pie"
           }
          ],
          "scatter": [
           {
            "fillpattern": {
             "fillmode": "overlay",
             "size": 10,
             "solidity": 0.2
            },
            "type": "scatter"
           }
          ],
          "scatter3d": [
           {
            "line": {
             "colorbar": {
              "outlinewidth": 0,
              "ticks": ""
             }
            },
            "marker": {
             "colorbar": {
              "outlinewidth": 0,
              "ticks": ""
             }
            },
            "type": "scatter3d"
           }
          ],
          "scattercarpet": [
           {
            "marker": {
             "colorbar": {
              "outlinewidth": 0,
              "ticks": ""
             }
            },
            "type": "scattercarpet"
           }
          ],
          "scattergeo": [
           {
            "marker": {
             "colorbar": {
              "outlinewidth": 0,
              "ticks": ""
             }
            },
            "type": "scattergeo"
           }
          ],
          "scattergl": [
           {
            "marker": {
             "colorbar": {
              "outlinewidth": 0,
              "ticks": ""
             }
            },
            "type": "scattergl"
           }
          ],
          "scattermapbox": [
           {
            "marker": {
             "colorbar": {
              "outlinewidth": 0,
              "ticks": ""
             }
            },
            "type": "scattermapbox"
           }
          ],
          "scatterpolar": [
           {
            "marker": {
             "colorbar": {
              "outlinewidth": 0,
              "ticks": ""
             }
            },
            "type": "scatterpolar"
           }
          ],
          "scatterpolargl": [
           {
            "marker": {
             "colorbar": {
              "outlinewidth": 0,
              "ticks": ""
             }
            },
            "type": "scatterpolargl"
           }
          ],
          "scatterternary": [
           {
            "marker": {
             "colorbar": {
              "outlinewidth": 0,
              "ticks": ""
             }
            },
            "type": "scatterternary"
           }
          ],
          "surface": [
           {
            "colorbar": {
             "outlinewidth": 0,
             "ticks": ""
            },
            "colorscale": [
             [
              0,
              "#0d0887"
             ],
             [
              0.1111111111111111,
              "#46039f"
             ],
             [
              0.2222222222222222,
              "#7201a8"
             ],
             [
              0.3333333333333333,
              "#9c179e"
             ],
             [
              0.4444444444444444,
              "#bd3786"
             ],
             [
              0.5555555555555556,
              "#d8576b"
             ],
             [
              0.6666666666666666,
              "#ed7953"
             ],
             [
              0.7777777777777778,
              "#fb9f3a"
             ],
             [
              0.8888888888888888,
              "#fdca26"
             ],
             [
              1,
              "#f0f921"
             ]
            ],
            "type": "surface"
           }
          ],
          "table": [
           {
            "cells": {
             "fill": {
              "color": "#EBF0F8"
             },
             "line": {
              "color": "white"
             }
            },
            "header": {
             "fill": {
              "color": "#C8D4E3"
             },
             "line": {
              "color": "white"
             }
            },
            "type": "table"
           }
          ]
         },
         "layout": {
          "annotationdefaults": {
           "arrowcolor": "#2a3f5f",
           "arrowhead": 0,
           "arrowwidth": 1
          },
          "autotypenumbers": "strict",
          "coloraxis": {
           "colorbar": {
            "outlinewidth": 0,
            "ticks": ""
           }
          },
          "colorscale": {
           "diverging": [
            [
             0,
             "#8e0152"
            ],
            [
             0.1,
             "#c51b7d"
            ],
            [
             0.2,
             "#de77ae"
            ],
            [
             0.3,
             "#f1b6da"
            ],
            [
             0.4,
             "#fde0ef"
            ],
            [
             0.5,
             "#f7f7f7"
            ],
            [
             0.6,
             "#e6f5d0"
            ],
            [
             0.7,
             "#b8e186"
            ],
            [
             0.8,
             "#7fbc41"
            ],
            [
             0.9,
             "#4d9221"
            ],
            [
             1,
             "#276419"
            ]
           ],
           "sequential": [
            [
             0,
             "#0d0887"
            ],
            [
             0.1111111111111111,
             "#46039f"
            ],
            [
             0.2222222222222222,
             "#7201a8"
            ],
            [
             0.3333333333333333,
             "#9c179e"
            ],
            [
             0.4444444444444444,
             "#bd3786"
            ],
            [
             0.5555555555555556,
             "#d8576b"
            ],
            [
             0.6666666666666666,
             "#ed7953"
            ],
            [
             0.7777777777777778,
             "#fb9f3a"
            ],
            [
             0.8888888888888888,
             "#fdca26"
            ],
            [
             1,
             "#f0f921"
            ]
           ],
           "sequentialminus": [
            [
             0,
             "#0d0887"
            ],
            [
             0.1111111111111111,
             "#46039f"
            ],
            [
             0.2222222222222222,
             "#7201a8"
            ],
            [
             0.3333333333333333,
             "#9c179e"
            ],
            [
             0.4444444444444444,
             "#bd3786"
            ],
            [
             0.5555555555555556,
             "#d8576b"
            ],
            [
             0.6666666666666666,
             "#ed7953"
            ],
            [
             0.7777777777777778,
             "#fb9f3a"
            ],
            [
             0.8888888888888888,
             "#fdca26"
            ],
            [
             1,
             "#f0f921"
            ]
           ]
          },
          "colorway": [
           "#636efa",
           "#EF553B",
           "#00cc96",
           "#ab63fa",
           "#FFA15A",
           "#19d3f3",
           "#FF6692",
           "#B6E880",
           "#FF97FF",
           "#FECB52"
          ],
          "font": {
           "color": "#2a3f5f"
          },
          "geo": {
           "bgcolor": "white",
           "lakecolor": "white",
           "landcolor": "#E5ECF6",
           "showlakes": true,
           "showland": true,
           "subunitcolor": "white"
          },
          "hoverlabel": {
           "align": "left"
          },
          "hovermode": "closest",
          "mapbox": {
           "style": "light"
          },
          "paper_bgcolor": "white",
          "plot_bgcolor": "#E5ECF6",
          "polar": {
           "angularaxis": {
            "gridcolor": "white",
            "linecolor": "white",
            "ticks": ""
           },
           "bgcolor": "#E5ECF6",
           "radialaxis": {
            "gridcolor": "white",
            "linecolor": "white",
            "ticks": ""
           }
          },
          "scene": {
           "xaxis": {
            "backgroundcolor": "#E5ECF6",
            "gridcolor": "white",
            "gridwidth": 2,
            "linecolor": "white",
            "showbackground": true,
            "ticks": "",
            "zerolinecolor": "white"
           },
           "yaxis": {
            "backgroundcolor": "#E5ECF6",
            "gridcolor": "white",
            "gridwidth": 2,
            "linecolor": "white",
            "showbackground": true,
            "ticks": "",
            "zerolinecolor": "white"
           },
           "zaxis": {
            "backgroundcolor": "#E5ECF6",
            "gridcolor": "white",
            "gridwidth": 2,
            "linecolor": "white",
            "showbackground": true,
            "ticks": "",
            "zerolinecolor": "white"
           }
          },
          "shapedefaults": {
           "line": {
            "color": "#2a3f5f"
           }
          },
          "ternary": {
           "aaxis": {
            "gridcolor": "white",
            "linecolor": "white",
            "ticks": ""
           },
           "baxis": {
            "gridcolor": "white",
            "linecolor": "white",
            "ticks": ""
           },
           "bgcolor": "#E5ECF6",
           "caxis": {
            "gridcolor": "white",
            "linecolor": "white",
            "ticks": ""
           }
          },
          "title": {
           "x": 0.05
          },
          "xaxis": {
           "automargin": true,
           "gridcolor": "white",
           "linecolor": "white",
           "ticks": "",
           "title": {
            "standoff": 15
           },
           "zerolinecolor": "white",
           "zerolinewidth": 2
          },
          "yaxis": {
           "automargin": true,
           "gridcolor": "white",
           "linecolor": "white",
           "ticks": "",
           "title": {
            "standoff": 15
           },
           "zerolinecolor": "white",
           "zerolinewidth": 2
          }
         }
        }
       }
      }
     },
     "metadata": {},
     "output_type": "display_data"
    }
   ],
   "source": [
    "\n",
    "plot_landmarks(\n",
    "        result.pose_world_landmarks,  mp_pose.POSE_CONNECTIONS)"
   ]
  },
  {
   "cell_type": "code",
   "execution_count": null,
   "metadata": {},
   "outputs": [],
   "source": []
  }
 ],
 "metadata": {
  "kernelspec": {
   "display_name": "Python 3.9.12 ('tf_gpu')",
   "language": "python",
   "name": "python3"
  },
  "language_info": {
   "codemirror_mode": {
    "name": "ipython",
    "version": 3
   },
   "file_extension": ".py",
   "mimetype": "text/x-python",
   "name": "python",
   "nbconvert_exporter": "python",
   "pygments_lexer": "ipython3",
   "version": "3.9.12"
  },
  "orig_nbformat": 4,
  "vscode": {
   "interpreter": {
    "hash": "deb65e8d8c8d3656d5eca6fd886d98fa2b79fbd5bd98f1dd28f9364634e8977d"
   }
  }
 },
 "nbformat": 4,
 "nbformat_minor": 2
}
