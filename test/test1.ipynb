{
 "cells": [
  {
   "cell_type": "code",
   "execution_count": 3,
   "metadata": {},
   "outputs": [],
   "source": [
    "from mediapipe.python.solutions import pose as mp_pose\n",
    "import mediapipe as mp\n",
    "import cv2\n",
    "import os\n",
    "import pandas as pd\n",
    "import numpy as np\n",
    "import random"
   ]
  },
  {
   "cell_type": "code",
   "execution_count": 17,
   "metadata": {},
   "outputs": [
    {
     "data": {
      "text/plain": [
       "array([   1,   40,   79,  118,  157,  196,  235,  274,  313,  352,  391,\n",
       "        430,  469,  508,  547,  586,  625,  664,  703,  742,  781,  820,\n",
       "        859,  898,  937,  976, 1015, 1054, 1093, 1132, 1171, 1210, 1249,\n",
       "       1288, 1327, 1366, 1405, 1444, 1483, 1522, 1561, 1600, 1639, 1678,\n",
       "       1717, 1756, 1795, 1834, 1873, 1912, 1951, 1990, 2029, 2068, 2107,\n",
       "       2146, 2185, 2224, 2263, 2302, 2341, 2380, 2419, 2458, 2497, 2536,\n",
       "       2575, 2614, 2653, 2692, 2731, 2770, 2809, 2848, 2887, 2926, 2965,\n",
       "       3004, 3043, 3082, 3121, 3160, 3199, 3238, 3277, 3316, 3355, 3394,\n",
       "       3433, 3472, 3511, 3550, 3589, 3628, 3667, 3706, 3745, 3784, 3823,\n",
       "       3862, 3901, 3940, 3979, 4018, 4057, 4096, 4135, 4174, 4213, 4252,\n",
       "       4291, 4330, 4369, 4408, 4447, 4486, 4525, 4564, 4603, 4642, 4681,\n",
       "       4720, 4759, 4798, 4837, 4876, 4915, 4954, 4993, 5032, 5071, 5110,\n",
       "       5149, 5188, 5227, 5266, 5305, 5344, 5383, 5422, 5461, 5500, 5539,\n",
       "       5578, 5617, 5656, 5695, 5734, 5773, 5812, 5851, 5890, 5929, 5968,\n",
       "       6007, 6046, 6085, 6124, 6163, 6202, 6241, 6280, 6319, 6358, 6397,\n",
       "       6436, 6475, 6514, 6553, 6592, 6631, 6670, 6709, 6748, 6787, 6826,\n",
       "       6865, 6904, 6943, 6982, 7021, 7060, 7099, 7138, 7177, 7216, 7255,\n",
       "       7294, 7333, 7372, 7411, 7450, 7489, 7528, 7567, 7606, 7645, 7684,\n",
       "       7723, 7762, 7801, 7840, 7879, 7918, 7957, 7996])"
      ]
     },
     "execution_count": 17,
     "metadata": {},
     "output_type": "execute_result"
    }
   ],
   "source": [
    "size = np.arange( start=1, stop=8000,step=random.randint(20,80), dtype=int, )\n",
    "size"
   ]
  },
  {
   "cell_type": "code",
   "execution_count": 6,
   "metadata": {},
   "outputs": [],
   "source": [
    "pose = mp_pose.Pose()\n",
    "mpDraw = mp.solutions.drawing_utils"
   ]
  },
  {
   "cell_type": "code",
   "execution_count": 4,
   "metadata": {},
   "outputs": [],
   "source": [
    "path = 'C://python//train//fall/video1/'"
   ]
  },
  {
   "cell_type": "code",
   "execution_count": 5,
   "metadata": {},
   "outputs": [],
   "source": [
    "a = os.listdir(path)"
   ]
  },
  {
   "cell_type": "code",
   "execution_count": 6,
   "metadata": {},
   "outputs": [
    {
     "data": {
      "text/plain": [
       "['a.png',\n",
       " 'b.png',\n",
       " 'fall-01-cam0-rgb-001.png',\n",
       " 'fall-01-cam0-rgb-002.png',\n",
       " 'fall-01-cam0-rgb-003.png',\n",
       " 'fall-01-cam0-rgb-004.png',\n",
       " 'fall-01-cam0-rgb-005.png',\n",
       " 'fall-01-cam0-rgb-006.png',\n",
       " 'fall-01-cam0-rgb-007.png',\n",
       " 'fall-01-cam0-rgb-008.png',\n",
       " 'fall-01-cam0-rgb-009.png',\n",
       " 'fall-01-cam0-rgb-010.png',\n",
       " 'fall-01-cam0-rgb-011.png',\n",
       " 'fall-01-cam0-rgb-012.png',\n",
       " 'fall-01-cam0-rgb-013.png',\n",
       " 'fall-01-cam0-rgb-014.png',\n",
       " 'fall-01-cam0-rgb-015.png',\n",
       " 'fall-01-cam0-rgb-016.png',\n",
       " 'fall-01-cam0-rgb-017.png',\n",
       " 'fall-01-cam0-rgb-018.png',\n",
       " 'fall-01-cam0-rgb-019.png',\n",
       " 'fall-01-cam0-rgb-020.png',\n",
       " 'fall-01-cam0-rgb-021.png',\n",
       " 'fall-01-cam0-rgb-022.png',\n",
       " 'fall-01-cam0-rgb-023.png',\n",
       " 'fall-01-cam0-rgb-024.png',\n",
       " 'fall-01-cam0-rgb-025.png',\n",
       " 'fall-01-cam0-rgb-026.png',\n",
       " 'fall-01-cam0-rgb-027.png',\n",
       " 'fall-01-cam0-rgb-028.png',\n",
       " 'fall-01-cam0-rgb-029.png',\n",
       " 'fall-01-cam0-rgb-030.png',\n",
       " 'fall-01-cam0-rgb-031.png',\n",
       " 'fall-01-cam0-rgb-032.png',\n",
       " 'fall-01-cam0-rgb-033.png',\n",
       " 'fall-01-cam0-rgb-034.png',\n",
       " 'fall-01-cam0-rgb-035.png',\n",
       " 'fall-01-cam0-rgb-036.png',\n",
       " 'fall-01-cam0-rgb-037.png',\n",
       " 'fall-01-cam0-rgb-038.png',\n",
       " 'fall-01-cam0-rgb-039.png',\n",
       " 'fall-01-cam0-rgb-040.png',\n",
       " 'fall-01-cam0-rgb-041.png',\n",
       " 'fall-01-cam0-rgb-042.png',\n",
       " 'fall-01-cam0-rgb-043.png',\n",
       " 'fall-01-cam0-rgb-044.png',\n",
       " 'fall-01-cam0-rgb-045.png',\n",
       " 'fall-01-cam0-rgb-046.png',\n",
       " 'fall-01-cam0-rgb-047.png',\n",
       " 'fall-01-cam0-rgb-048.png',\n",
       " 'fall-01-cam0-rgb-049.png',\n",
       " 'fall-01-cam0-rgb-050.png',\n",
       " 'fall-01-cam0-rgb-051.png',\n",
       " 'fall-01-cam0-rgb-052.png',\n",
       " 'fall-01-cam0-rgb-053.png',\n",
       " 'fall-01-cam0-rgb-054.png',\n",
       " 'fall-01-cam0-rgb-055.png',\n",
       " 'fall-01-cam0-rgb-056.png',\n",
       " 'fall-01-cam0-rgb-057.png',\n",
       " 'fall-01-cam0-rgb-058.png',\n",
       " 'fall-01-cam0-rgb-059.png',\n",
       " 'fall-01-cam0-rgb-060.png',\n",
       " 'fall-01-cam0-rgb-061.png',\n",
       " 'fall-01-cam0-rgb-062.png',\n",
       " 'fall-01-cam0-rgb-063.png',\n",
       " 'fall-01-cam0-rgb-064.png',\n",
       " 'fall-01-cam0-rgb-065.png',\n",
       " 'fall-01-cam0-rgb-066.png',\n",
       " 'fall-01-cam0-rgb-067.png',\n",
       " 'fall-01-cam0-rgb-068.png',\n",
       " 'fall-01-cam0-rgb-069.png',\n",
       " 'fall-01-cam0-rgb-070.png',\n",
       " 'fall-01-cam0-rgb-071.png',\n",
       " 'fall-01-cam0-rgb-072.png',\n",
       " 'fall-01-cam0-rgb-073.png',\n",
       " 'fall-01-cam0-rgb-074.png',\n",
       " 'fall-01-cam0-rgb-075.png',\n",
       " 'fall-01-cam0-rgb-076.png',\n",
       " 'fall-01-cam0-rgb-077.png',\n",
       " 'fall-01-cam0-rgb-078.png',\n",
       " 'fall-01-cam0-rgb-079.png',\n",
       " 'fall-01-cam0-rgb-080.png',\n",
       " 'fall-01-cam0-rgb-081.png',\n",
       " 'fall-01-cam0-rgb-082.png',\n",
       " 'fall-01-cam0-rgb-083.png',\n",
       " 'fall-01-cam0-rgb-084.png',\n",
       " 'fall-01-cam0-rgb-085.png',\n",
       " 'fall-01-cam0-rgb-086.png',\n",
       " 'fall-01-cam0-rgb-087.png',\n",
       " 'fall-01-cam0-rgb-088.png',\n",
       " 'fall-01-cam0-rgb-089.png',\n",
       " 'fall-01-cam0-rgb-090.png',\n",
       " 'fall-01-cam0-rgb-091.png',\n",
       " 'fall-01-cam0-rgb-092.png',\n",
       " 'fall-01-cam0-rgb-093.png',\n",
       " 'fall-01-cam0-rgb-094.png',\n",
       " 'fall-01-cam0-rgb-095.png',\n",
       " 'fall-01-cam0-rgb-096.png',\n",
       " 'fall-01-cam0-rgb-097.png',\n",
       " 'fall-01-cam0-rgb-098.png',\n",
       " 'fall-01-cam0-rgb-099.png',\n",
       " 'fall-01-cam0-rgb-100.png',\n",
       " 'fall-01-cam0-rgb-101.png',\n",
       " 'fall-01-cam0-rgb-102.png',\n",
       " 'fall-01-cam0-rgb-103.png',\n",
       " 'fall-01-cam0-rgb-104.png',\n",
       " 'fall-01-cam0-rgb-105.png',\n",
       " 'fall-01-cam0-rgb-106.png',\n",
       " 'fall-01-cam0-rgb-107.png',\n",
       " 'fall-01-cam0-rgb-108.png',\n",
       " 'fall-01-cam0-rgb-109.png',\n",
       " 'fall-01-cam0-rgb-110.png',\n",
       " 'fall-01-cam0-rgb-111.png',\n",
       " 'fall-01-cam0-rgb-112.png',\n",
       " 'fall-01-cam0-rgb-113.png',\n",
       " 'fall-01-cam0-rgb-114.png',\n",
       " 'fall-01-cam0-rgb-115.png',\n",
       " 'fall-01-cam0-rgb-116.png',\n",
       " 'fall-01-cam0-rgb-117.png',\n",
       " 'fall-01-cam0-rgb-118.png',\n",
       " 'fall-01-cam0-rgb-119.png',\n",
       " 'fall-01-cam0-rgb-120.png',\n",
       " 'fall-01-cam0-rgb-121.png',\n",
       " 'fall-01-cam0-rgb-122.png',\n",
       " 'fall-01-cam0-rgb-123.png',\n",
       " 'fall-01-cam0-rgb-124.png',\n",
       " 'fall-01-cam0-rgb-125.png',\n",
       " 'fall-01-cam0-rgb-126.png',\n",
       " 'fall-01-cam0-rgb-127.png',\n",
       " 'fall-01-cam0-rgb-128.png',\n",
       " 'fall-01-cam0-rgb-129.png',\n",
       " 'fall-01-cam0-rgb-130.png',\n",
       " 'fall-01-cam0-rgb-131.png',\n",
       " 'fall-01-cam0-rgb-132.png',\n",
       " 'fall-01-cam0-rgb-133.png',\n",
       " 'fall-01-cam0-rgb-134.png',\n",
       " 'fall-01-cam0-rgb-135.png',\n",
       " 'fall-01-cam0-rgb-136.png',\n",
       " 'fall-01-cam0-rgb-137.png',\n",
       " 'fall-01-cam0-rgb-138.png',\n",
       " 'fall-01-cam0-rgb-139.png',\n",
       " 'fall-01-cam0-rgb-140.png',\n",
       " 'fall-01-cam0-rgb-141.png',\n",
       " 'fall-01-cam0-rgb-142.png',\n",
       " 'fall-01-cam0-rgb-143.png',\n",
       " 'fall-01-cam0-rgb-144.png',\n",
       " 'fall-01-cam0-rgb-145.png',\n",
       " 'fall-01-cam0-rgb-146.png',\n",
       " 'fall-01-cam0-rgb-147.png',\n",
       " 'fall-01-cam0-rgb-148.png',\n",
       " 'fall-01-cam0-rgb-149.png',\n",
       " 'fall-01-cam0-rgb-150.png',\n",
       " 'fall-01-cam0-rgb-151.png',\n",
       " 'fall-01-cam0-rgb-152.png',\n",
       " 'fall-01-cam0-rgb-153.png',\n",
       " 'fall-01-cam0-rgb-154.png',\n",
       " 'fall-01-cam0-rgb-155.png',\n",
       " 'fall-01-cam0-rgb-156.png',\n",
       " 'fall-01-cam0-rgb-157.png',\n",
       " 'fall-01-cam0-rgb-158.png',\n",
       " 'fall-01-cam0-rgb-159.png',\n",
       " 'fall-01-cam0-rgb-160.png']"
      ]
     },
     "execution_count": 6,
     "metadata": {},
     "output_type": "execute_result"
    }
   ],
   "source": [
    "a"
   ]
  },
  {
   "cell_type": "code",
   "execution_count": 7,
   "metadata": {},
   "outputs": [],
   "source": [
    "img = cv2.imread(path + a[0], cv2.IMREAD_COLOR)\n",
    "img = cv2.resize(img, (320,240))"
   ]
  },
  {
   "cell_type": "code",
   "execution_count": 8,
   "metadata": {},
   "outputs": [],
   "source": [
    "result = pose.process(cv2.cvtColor(img, cv2.COLOR_BGR2RGB))"
   ]
  },
  {
   "cell_type": "code",
   "execution_count": 21,
   "metadata": {},
   "outputs": [
    {
     "name": "stdout",
     "output_type": "stream",
     "text": [
      "NOSE <class 'str'>\n",
      "LEFT_EYE_INNER <class 'str'>\n",
      "LEFT_EYE <class 'str'>\n",
      "LEFT_EYE_OUTER <class 'str'>\n",
      "RIGHT_EYE_INNER <class 'str'>\n",
      "RIGHT_EYE <class 'str'>\n",
      "RIGHT_EYE_OUTER <class 'str'>\n",
      "LEFT_EAR <class 'str'>\n",
      "RIGHT_EAR <class 'str'>\n",
      "MOUTH_LEFT <class 'str'>\n",
      "MOUTH_RIGHT <class 'str'>\n",
      "LEFT_SHOULDER <class 'str'>\n",
      "RIGHT_SHOULDER <class 'str'>\n",
      "LEFT_ELBOW <class 'str'>\n",
      "RIGHT_ELBOW <class 'str'>\n",
      "LEFT_WRIST <class 'str'>\n",
      "RIGHT_WRIST <class 'str'>\n",
      "LEFT_PINKY <class 'str'>\n",
      "RIGHT_PINKY <class 'str'>\n",
      "LEFT_INDEX <class 'str'>\n",
      "RIGHT_INDEX <class 'str'>\n",
      "LEFT_THUMB <class 'str'>\n",
      "RIGHT_THUMB <class 'str'>\n",
      "LEFT_HIP <class 'str'>\n",
      "RIGHT_HIP <class 'str'>\n",
      "LEFT_KNEE <class 'str'>\n",
      "RIGHT_KNEE <class 'str'>\n",
      "LEFT_ANKLE <class 'str'>\n",
      "RIGHT_ANKLE <class 'str'>\n",
      "LEFT_HEEL <class 'str'>\n",
      "RIGHT_HEEL <class 'str'>\n",
      "LEFT_FOOT_INDEX <class 'str'>\n",
      "RIGHT_FOOT_INDEX <class 'str'>\n"
     ]
    }
   ],
   "source": [
    "def getLandMark(result, poseName:str):\n",
    "    c_lm = []\n",
    "    fullVal = result.pose_landmarks.landmark[mp_pose.PoseLandmark.x]\n",
    "    c_lm.append(fullVal.x)\n",
    "    c_lm.append(fullVal.y)\n",
    "    c_lm.append(fullVal.z)\n",
    "    c_lm.append(fullVal.visibility)\n",
    "    return c_lm\n",
    "    \n"
   ]
  },
  {
   "cell_type": "code",
   "execution_count": 25,
   "metadata": {},
   "outputs": [],
   "source": [
    "a = result.pose_world_landmarks.landmark[mp_pose.PoseLandmark]"
   ]
  },
  {
   "cell_type": "code",
   "execution_count": 26,
   "metadata": {},
   "outputs": [
    {
     "data": {
      "text/plain": [
       "0.33226001262664795"
      ]
     },
     "execution_count": 26,
     "metadata": {},
     "output_type": "execute_result"
    }
   ],
   "source": [
    "a.x"
   ]
  },
  {
   "cell_type": "code",
   "execution_count": 27,
   "metadata": {},
   "outputs": [],
   "source": [
    "b = mp_pose.PoseLandmark"
   ]
  },
  {
   "cell_type": "code",
   "execution_count": 28,
   "metadata": {},
   "outputs": [
    {
     "data": {
      "text/plain": [
       "<PoseLandmark.LEFT_ANKLE: 27>"
      ]
     },
     "execution_count": 28,
     "metadata": {},
     "output_type": "execute_result"
    }
   ],
   "source": [
    "b.LEFT_ANKLE"
   ]
  },
  {
   "cell_type": "code",
   "execution_count": 29,
   "metadata": {},
   "outputs": [
    {
     "data": {
      "text/plain": [
       "<enum 'PoseLandmark'>"
      ]
     },
     "execution_count": 29,
     "metadata": {},
     "output_type": "execute_result"
    }
   ],
   "source": [
    "type(b.LEFT_ANKLE)"
   ]
  },
  {
   "cell_type": "code",
   "execution_count": 50,
   "metadata": {},
   "outputs": [],
   "source": [
    "lm = []"
   ]
  },
  {
   "cell_type": "code",
   "execution_count": 52,
   "metadata": {},
   "outputs": [],
   "source": [
    "for i in b:\n",
    "    if i.value <= 26:\n",
    "        lm.append([result.pose_world_landmarks.landmark[mp_pose.PoseLandmark._member_map_[i.name]].x, result.pose_world_landmarks.landmark[mp_pose.PoseLandmark._member_map_[i.name]].y, result.pose_world_landmarks.landmark[mp_pose.PoseLandmark._member_map_[i.name]].z])"
   ]
  },
  {
   "cell_type": "code",
   "execution_count": 55,
   "metadata": {},
   "outputs": [],
   "source": [
    "data = []\n",
    "data.append(np.array(lm).flatten())"
   ]
  },
  {
   "cell_type": "code",
   "execution_count": 57,
   "metadata": {},
   "outputs": [
    {
     "ename": "AttributeError",
     "evalue": "'list' object has no attribute 'shape'",
     "output_type": "error",
     "traceback": [
      "\u001b[1;31m---------------------------------------------------------------------------\u001b[0m",
      "\u001b[1;31mAttributeError\u001b[0m                            Traceback (most recent call last)",
      "\u001b[1;32mc:\\python\\fall-detection\\test1.ipynb Cell 17'\u001b[0m in \u001b[0;36m<cell line: 1>\u001b[1;34m()\u001b[0m\n\u001b[1;32m----> <a href='vscode-notebook-cell:/c%3A/python/fall-detection/test1.ipynb#ch0000016?line=0'>1</a>\u001b[0m data\u001b[39m.\u001b[39;49mshape\n",
      "\u001b[1;31mAttributeError\u001b[0m: 'list' object has no attribute 'shape'"
     ]
    }
   ],
   "source": [
    "data"
   ]
  },
  {
   "cell_type": "code",
   "execution_count": null,
   "metadata": {},
   "outputs": [],
   "source": []
  }
 ],
 "metadata": {
  "kernelspec": {
   "display_name": "Python 3.9.12 ('tf_gpu')",
   "language": "python",
   "name": "python3"
  },
  "language_info": {
   "codemirror_mode": {
    "name": "ipython",
    "version": 3
   },
   "file_extension": ".py",
   "mimetype": "text/x-python",
   "name": "python",
   "nbconvert_exporter": "python",
   "pygments_lexer": "ipython3",
   "version": "3.9.12"
  },
  "orig_nbformat": 4,
  "vscode": {
   "interpreter": {
    "hash": "deb65e8d8c8d3656d5eca6fd886d98fa2b79fbd5bd98f1dd28f9364634e8977d"
   }
  }
 },
 "nbformat": 4,
 "nbformat_minor": 2
}
