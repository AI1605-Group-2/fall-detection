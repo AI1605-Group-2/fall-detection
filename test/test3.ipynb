{
 "cells": [
  {
   "cell_type": "code",
   "execution_count": 1,
   "metadata": {},
   "outputs": [],
   "source": [
    "import pandas as pd\n",
    "import ruptures as rpt\n",
    "import numpy as np\n",
    "import os\n",
    "import joblib\n",
    "import model.function.visualise as vis\n",
    "from sklearn.metrics import confusion_matrix\n",
    "import model.function.DataFunction as dt"
   ]
  },
  {
   "cell_type": "code",
   "execution_count": 2,
   "metadata": {},
   "outputs": [],
   "source": [
    "vi = vis.Visualise()\n",
    "dtf = dt.DataFunction()"
   ]
  },
  {
   "cell_type": "code",
   "execution_count": 3,
   "metadata": {},
   "outputs": [],
   "source": [
    "path =  'C://python//train//'\n",
    "fallPath = 'C://python//train//fall_csv//'\n",
    "normalPath = 'C://python//train//normal_csv//'"
   ]
  },
  {
   "cell_type": "code",
   "execution_count": 4,
   "metadata": {},
   "outputs": [],
   "source": [
    "features = [False,  True, False, False,  True,  True,  True, False, False,\n",
    "       False, False, False, False,  True, False, False,  True,  True,\n",
    "       False, False,  True, False, False,  True, False, False, False,\n",
    "        True,  True,  True, False,  True, False,  True, False, False,\n",
    "        True,  True, False, False, False, False, False, False, False,\n",
    "       False, False, False,  True,  True,  True,  True, False, False,\n",
    "       False,  True,  True, False, False,  True, False, False, False,\n",
    "        True, False, False, False,  True,  True,  True, False,  True,\n",
    "        True,  True, False,  True, False,  True, False,  True, False,\n",
    "       False, False,  True,  True,  True, False,  True,  True, False,\n",
    "        True,  True, False, False, False, False,  True,  True,  True,\n",
    "       False,  True,  True, False,  True, False,  True,  True,  True,\n",
    "       False, False, False, False, False,  True,  True,  True, False,\n",
    "        True, False, False,  True,  True,  True,  True,  True,  True,\n",
    "        True,  True,  True,  True, False, False]"
   ]
  },
  {
   "cell_type": "code",
   "execution_count": 5,
   "metadata": {},
   "outputs": [],
   "source": [
    "model_new = joblib.load(path + 'model_final//model_pso.sav')"
   ]
  },
  {
   "cell_type": "code",
   "execution_count": 6,
   "metadata": {},
   "outputs": [],
   "source": [
    "rawFallData = pd.concat([pd.read_csv(fallPath + file) for file in os.listdir(fallPath)])\n",
    "rawNormalData = pd.concat([pd.read_csv(normalPath + file) for file in os.listdir(normalPath)]) "
   ]
  },
  {
   "cell_type": "code",
   "execution_count": 7,
   "metadata": {},
   "outputs": [],
   "source": [
    "data = np.concatenate((rawFallData, rawNormalData), axis=0)"
   ]
  },
  {
   "cell_type": "code",
   "execution_count": 8,
   "metadata": {},
   "outputs": [],
   "source": [
    "label = dtf.labelSet('addframe', fallPath, normalPath)"
   ]
  },
  {
   "cell_type": "code",
   "execution_count": 10,
   "metadata": {},
   "outputs": [],
   "source": [
    "y_pred = model_new.predict(data[:, features])"
   ]
  },
  {
   "cell_type": "code",
   "execution_count": 11,
   "metadata": {},
   "outputs": [
    {
     "name": "stdout",
     "output_type": "stream",
     "text": [
      "              precision    recall  f1-score   support\n",
      "\n",
      "          -1       0.99      1.00      1.00      6559\n",
      "           1       1.00      0.98      0.99      2294\n",
      "\n",
      "    accuracy                           1.00      8853\n",
      "   macro avg       1.00      0.99      0.99      8853\n",
      "weighted avg       1.00      1.00      1.00      8853\n",
      "\n"
     ]
    }
   ],
   "source": [
    "vi.report(y_pred, label)"
   ]
  },
  {
   "cell_type": "code",
   "execution_count": 12,
   "metadata": {},
   "outputs": [
    {
     "data": {
      "image/png": "[encoded data removed]",
      "text/plain": [
       "<Figure size 432x288 with 1 Axes>"
      ]
     },
     "metadata": {
      "needs_background": "light"
     },
     "output_type": "display_data"
    }
   ],
   "source": [
    "vi.conf_mat(y_pred, label)"
   ]
  },
  {
   "cell_type": "code",
   "execution_count": 13,
   "metadata": {},
   "outputs": [
    {
     "data": {
      "image/png": "[encoded data removed]",
      "text/plain": [
       "<Figure size 432x288 with 1 Axes>"
      ]
     },
     "metadata": {
      "needs_background": "light"
     },
     "output_type": "display_data"
    }
   ],
   "source": [
    "vi.show_roc(y_pred, label)"
   ]
  }
 ],
 "metadata": {
  "kernelspec": {
   "display_name": "Python 3.9.12 ('tf_gpu')",
   "language": "python",
   "name": "python3"
  },
  "language_info": {
   "codemirror_mode": {
    "name": "ipython",
    "version": 3
   },
   "file_extension": ".py",
   "mimetype": "text/x-python",
   "name": "python",
   "nbconvert_exporter": "python",
   "pygments_lexer": "ipython3",
   "version": "3.9.12"
  },
  "orig_nbformat": 4,
  "vscode": {
   "interpreter": {
    "hash": "deb65e8d8c8d3656d5eca6fd886d98fa2b79fbd5bd98f1dd28f9364634e8977d"
   }
  }
 },
 "nbformat": 4,
 "nbformat_minor": 2
}
