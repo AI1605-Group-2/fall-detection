{
 "cells": [
  {
   "cell_type": "code",
   "execution_count": 16,
   "metadata": {},
   "outputs": [],
   "source": [
    "import pandas as pd\n",
    "import plotly.graph_objects as go\n",
    "import os\n",
    "import cv2\n",
    "from mediapipe.python.solutions import pose as mp_pose\n",
    "import mediapipe as mp\n",
    "import plotly.express as px\n",
    "import matplotlib.pyplot as plt\n",
    "\n",
    "_PRESENCE_THRESHOLD = 0.5\n",
    "_VISIBILITY_THRESHOLD = 0.5\n",
    "\n",
    "\n",
    "def plot_landmarks(\n",
    "    landmark_list,\n",
    "    connections=None,\n",
    "):\n",
    "    if not landmark_list:\n",
    "        return\n",
    "    plotted_landmarks = {}\n",
    "    for idx, landmark in enumerate(landmark_list.landmark):\n",
    "        if (\n",
    "            landmark.HasField(\"visibility\")\n",
    "            and landmark.visibility < _VISIBILITY_THRESHOLD\n",
    "        ) or (\n",
    "            landmark.HasField(\"presence\") and landmark.presence < _PRESENCE_THRESHOLD\n",
    "        ):\n",
    "            continue\n",
    "        plotted_landmarks[idx] = (-landmark.z, landmark.x, -landmark.y)\n",
    "    if connections:\n",
    "        out_cn = []\n",
    "        num_landmarks = len(landmark_list.landmark)\n",
    "        # Draws the connections if the start and end landmarks are both visible.\n",
    "        for connection in connections:\n",
    "            start_idx = connection[0]\n",
    "            end_idx = connection[1]\n",
    "            if not (0 <= start_idx < num_landmarks and 0 <= end_idx < num_landmarks):\n",
    "                raise ValueError(\n",
    "                    f\"Landmark index is out of range. Invalid connection \"\n",
    "                    f\"from landmark #{start_idx} to landmark #{end_idx}.\"\n",
    "                )\n",
    "            if start_idx in plotted_landmarks and end_idx in plotted_landmarks:\n",
    "                landmark_pair = [\n",
    "                    plotted_landmarks[start_idx],\n",
    "                    plotted_landmarks[end_idx],\n",
    "                ]\n",
    "                out_cn.append(\n",
    "                    dict(\n",
    "                        xs=[landmark_pair[0][0], landmark_pair[1][0]],\n",
    "                        ys=[landmark_pair[0][1], landmark_pair[1][1]],\n",
    "                        zs=[landmark_pair[0][2], landmark_pair[1][2]],\n",
    "                    )\n",
    "                )\n",
    "        cn2 = {\"xs\": [], \"ys\": [], \"zs\": []}\n",
    "        for pair in out_cn:\n",
    "            for k in pair.keys():\n",
    "                cn2[k].append(pair[k][0])\n",
    "                cn2[k].append(pair[k][1])\n",
    "                cn2[k].append(None)\n",
    "\n",
    "    df = pd.DataFrame(plotted_landmarks).T.rename(columns={0: \"z\", 1: \"x\", 2: \"y\"})\n",
    "    df[\"lm\"] = df.index.map(lambda s: mp_pose.PoseLandmark(s).name).values\n",
    "    fig = (\n",
    "        px.scatter_3d(df, x=\"z\", y=\"x\", z=\"y\", hover_name=\"lm\")\n",
    "        .update_traces(marker={\"color\": \"red\"})\n",
    "        .update_layout(\n",
    "            margin={\"l\": 0, \"r\": 0, \"t\": 0, \"b\": 0},\n",
    "            scene={\"camera\": {\"eye\": {\"x\": 2.1, \"y\": 0, \"z\": 0}}},\n",
    "        )\n",
    "    )\n",
    "    fig.add_traces(\n",
    "        [\n",
    "            go.Scatter3d(\n",
    "                x=cn2[\"xs\"],\n",
    "                y=cn2[\"ys\"],\n",
    "                z=cn2[\"zs\"],\n",
    "                mode=\"lines\",\n",
    "                line={\"color\": \"black\", \"width\": 5},\n",
    "                name=\"connections\",\n",
    "            )\n",
    "        ]\n",
    "    )\n",
    "\n",
    "    return fig"
   ]
  },
  {
   "cell_type": "code",
   "execution_count": 17,
   "metadata": {},
   "outputs": [],
   "source": [
    "path = 'C://python//train//fall/video1/fall-01-cam0-rgb-001.png'\n",
    "# a = os.listdir(path)"
   ]
  },
  {
   "cell_type": "code",
   "execution_count": 18,
   "metadata": {},
   "outputs": [],
   "source": [
    "#find filename in a\n"
   ]
  },
  {
   "cell_type": "code",
   "execution_count": 19,
   "metadata": {},
   "outputs": [],
   "source": [
    "img = cv2.imread(path, cv2.IMREAD_COLOR)"
   ]
  },
  {
   "cell_type": "code",
   "execution_count": 20,
   "metadata": {},
   "outputs": [],
   "source": [
    "pose = mp_pose.Pose()\n",
    "mpDraw = mp.solutions.drawing_utils"
   ]
  },
  {
   "cell_type": "code",
   "execution_count": 21,
   "metadata": {},
   "outputs": [],
   "source": [
    "pose.reset()"
   ]
  },
  {
   "cell_type": "code",
   "execution_count": 22,
   "metadata": {},
   "outputs": [],
   "source": [
    "result = pose.process(cv2.cvtColor(img, cv2.COLOR_BGR2RGB))"
   ]
  },
  {
   "cell_type": "code",
   "execution_count": 23,
   "metadata": {},
   "outputs": [],
   "source": [
    "def getPoint(name):\n",
    "    if name.lower() == 'neck':\n",
    "        return round(0.5* (getPoint('RIGHT_SHOULDER') + getPoint('LEFT_SHOULDER')), 10)\n",
    "    return result.pose_world_landmarks.landmark[mp_pose.PoseLandmark._member_map_[name]].y"
   ]
  },
  {
   "cell_type": "code",
   "execution_count": 24,
   "metadata": {},
   "outputs": [
    {
     "data": {
      "text/plain": [
       "-0.4779525399"
      ]
     },
     "execution_count": 24,
     "metadata": {},
     "output_type": "execute_result"
    }
   ],
   "source": [
    "getPoint('neck')"
   ]
  },
  {
   "cell_type": "code",
   "execution_count": 25,
   "metadata": {},
   "outputs": [
    {
     "data": {
      "text/plain": [
       "-0.4724985659122467"
      ]
     },
     "execution_count": 25,
     "metadata": {},
     "output_type": "execute_result"
    }
   ],
   "source": [
    "getPoint('RIGHT_SHOULDER')"
   ]
  },
  {
   "cell_type": "code",
   "execution_count": 26,
   "metadata": {},
   "outputs": [
    {
     "data": {
      "text/plain": [
       "0.6859170794487"
      ]
     },
     "execution_count": 26,
     "metadata": {},
     "output_type": "execute_result"
    }
   ],
   "source": [
    "getPoint('RIGHT_ANKLE')"
   ]
  },
  {
   "cell_type": "code",
   "execution_count": 27,
   "metadata": {},
   "outputs": [
    {
     "data": {
      "text/plain": [
       "0.6581276059150696"
      ]
     },
     "execution_count": 27,
     "metadata": {},
     "output_type": "execute_result"
    }
   ],
   "source": [
    "getPoint('LEFT_ANKLE')"
   ]
  },
  {
   "cell_type": "code",
   "execution_count": 28,
   "metadata": {},
   "outputs": [
    {
     "data": {
      "text/plain": [
       "-0.48340651392936707"
      ]
     },
     "execution_count": 28,
     "metadata": {},
     "output_type": "execute_result"
    }
   ],
   "source": [
    "getPoint('LEFT_SHOULDER')"
   ]
  },
  {
   "cell_type": "code",
   "execution_count": 29,
   "metadata": {},
   "outputs": [
    {
     "data": {
      "application/vnd.plotly.v1+json": {
       "config": {
        "plotlyServerURL": "https://plot.ly"
       },
       "data": [
        {
         "hovertemplate": "<b>%{hovertext}</b><br><br>z=%{x}<br>x=%{y}<br>y=%{z}<extra></extra>",
         "hovertext": [
          "NOSE",
          "LEFT_EYE_INNER",
          "LEFT_EYE",
          "LEFT_EYE_OUTER",
          "RIGHT_EYE_INNER",
          "RIGHT_EYE",
          "RIGHT_EYE_OUTER",
          "LEFT_EAR",
          "RIGHT_EAR",
          "MOUTH_LEFT",
          "MOUTH_RIGHT",
          "LEFT_SHOULDER",
          "RIGHT_SHOULDER",
          "LEFT_ELBOW",
          "RIGHT_ELBOW",
          "LEFT_WRIST",
          "RIGHT_WRIST",
          "LEFT_PINKY",
          "RIGHT_PINKY",
          "LEFT_INDEX",
          "RIGHT_INDEX",
          "LEFT_THUMB",
          "RIGHT_THUMB",
          "LEFT_HIP",
          "RIGHT_HIP",
          "LEFT_KNEE",
          "RIGHT_KNEE",
          "LEFT_ANKLE",
          "RIGHT_ANKLE",
          "LEFT_HEEL",
          "RIGHT_HEEL",
          "LEFT_FOOT_INDEX",
          "RIGHT_FOOT_INDEX"
         ],
         "legendgroup": "",
         "marker": {
          "color": "red",
          "symbol": "circle"
         },
         "mode": "markers",
         "name": "",
         "scene": "scene",
         "showlegend": false,
         "type": "scatter3d",
         "x": [
          0.2990618348121643,
          0.2869354486465454,
          0.2864757478237152,
          0.28657999634742737,
          0.28257495164871216,
          0.28340497612953186,
          0.28248870372772217,
          0.18743489682674408,
          0.17563557624816895,
          0.2622827887535095,
          0.2569136619567871,
          0.12234503030776978,
          0.08665205538272858,
          0.09504394233226776,
          -0.0000023904794943518937,
          0.20566785335540771,
          0.07813851535320282,
          0.2378687560558319,
          0.09964679181575775,
          0.26685255765914917,
          0.13469570875167847,
          0.21717531979084015,
          0.09470771998167038,
          0.014788364060223103,
          -0.01631084829568863,
          0.009573934599757195,
          -0.062499821186065674,
          -0.2144845575094223,
          -0.29294565320014954,
          -0.22954826056957245,
          -0.3099531829357147,
          -0.12878666818141937,
          -0.20758092403411865
         ],
         "y": [
          -0.028058286756277084,
          -0.022874321788549423,
          -0.022583656013011932,
          -0.02275659516453743,
          -0.05366339907050133,
          -0.05337991937994957,
          -0.05373074486851692,
          0.037828151136636734,
          -0.10260949283838272,
          0.0010808780789375305,
          -0.040458038449287415,
          0.14728234708309174,
          -0.16420716047286987,
          0.1935730278491974,
          -0.19526632130146027,
          0.19085463881492615,
          -0.2349197417497635,
          0.19100768864154816,
          -0.24007628858089447,
          0.16442812979221344,
          -0.23051874339580536,
          0.17630484700202942,
          -0.2236817479133606,
          0.11083775013685226,
          -0.11104494333267212,
          0.11335263401269913,
          -0.09915095567703247,
          0.15390071272850037,
          -0.03551768511533737,
          0.16272731125354767,
          -0.03058413788676262,
          0.1800592839717865,
          -0.08320806175470352
         ],
         "z": [
          0.6195250153541565,
          0.6584857106208801,
          0.6589234471321106,
          0.6594735383987427,
          0.6539142727851868,
          0.6547594666481018,
          0.6560789346694946,
          0.6551558971405029,
          0.642066240310669,
          0.5999968647956848,
          0.5947487354278564,
          0.48340651392936707,
          0.4724985659122467,
          0.2592450976371765,
          0.23210807144641876,
          0.044704869389534,
          0.027743764221668243,
          -0.03674090653657913,
          -0.043795786798000336,
          -0.03758157789707184,
          -0.03685827553272247,
          0.029012326151132584,
          0.015544570982456207,
          -0.0025289924815297127,
          0.0032686609774827957,
          -0.37843918800354004,
          -0.3616248071193695,
          -0.6581276059150696,
          -0.6859170794487,
          -0.6964184641838074,
          -0.7303070425987244,
          -0.7719951272010803,
          -0.7919687032699585
         ]
        },
        {
         "line": {
          "color": "black",
          "width": 5
         },
         "mode": "lines",
         "name": "connections",
         "type": "scatter3d",
         "x": [
          0.20566785335540771,
          0.21717531979084015,
          null,
          0.07813851535320282,
          0.13469570875167847,
          null,
          0.09964679181575775,
          0.13469570875167847,
          null,
          0.28657999634742737,
          0.18743489682674408,
          null,
          -0.0000023904794943518937,
          0.07813851535320282,
          null,
          0.014788364060223103,
          0.009573934599757195,
          null,
          -0.29294565320014954,
          -0.3099531829357147,
          null,
          0.12234503030776978,
          0.014788364060223103,
          null,
          -0.2144845575094223,
          -0.12878666818141937,
          null,
          0.28248870372772217,
          0.17563557624816895,
          null,
          0.20566785335540771,
          0.2378687560558319,
          null,
          -0.01631084829568863,
          -0.062499821186065674,
          null,
          0.07813851535320282,
          0.09470771998167038,
          null,
          0.28257495164871216,
          0.28340497612953186,
          null,
          0.28340497612953186,
          0.28248870372772217,
          null,
          -0.22954826056957245,
          -0.12878666818141937,
          null,
          0.08665205538272858,
          -0.01631084829568863,
          null,
          0.014788364060223103,
          -0.01631084829568863,
          null,
          0.2990618348121643,
          0.2869354486465454,
          null,
          0.2622827887535095,
          0.2569136619567871,
          null,
          0.2869354486465454,
          0.2864757478237152,
          null,
          0.2990618348121643,
          0.28257495164871216,
          null,
          0.12234503030776978,
          0.09504394233226776,
          null,
          -0.3099531829357147,
          -0.20758092403411865,
          null,
          -0.29294565320014954,
          -0.20758092403411865,
          null,
          0.20566785335540771,
          0.26685255765914917,
          null,
          0.07813851535320282,
          0.09964679181575775,
          null,
          0.009573934599757195,
          -0.2144845575094223,
          null,
          -0.062499821186065674,
          -0.29294565320014954,
          null,
          0.08665205538272858,
          -0.0000023904794943518937,
          null,
          0.2378687560558319,
          0.26685255765914917,
          null,
          0.2864757478237152,
          0.28657999634742737,
          null,
          0.12234503030776978,
          0.08665205538272858,
          null,
          -0.2144845575094223,
          -0.22954826056957245,
          null,
          0.09504394233226776,
          0.20566785335540771,
          null
         ],
         "y": [
          0.19085463881492615,
          0.17630484700202942,
          null,
          -0.2349197417497635,
          -0.23051874339580536,
          null,
          -0.24007628858089447,
          -0.23051874339580536,
          null,
          -0.02275659516453743,
          0.037828151136636734,
          null,
          -0.19526632130146027,
          -0.2349197417497635,
          null,
          0.11083775013685226,
          0.11335263401269913,
          null,
          -0.03551768511533737,
          -0.03058413788676262,
          null,
          0.14728234708309174,
          0.11083775013685226,
          null,
          0.15390071272850037,
          0.1800592839717865,
          null,
          -0.05373074486851692,
          -0.10260949283838272,
          null,
          0.19085463881492615,
          0.19100768864154816,
          null,
          -0.11104494333267212,
          -0.09915095567703247,
          null,
          -0.2349197417497635,
          -0.2236817479133606,
          null,
          -0.05366339907050133,
          -0.05337991937994957,
          null,
          -0.05337991937994957,
          -0.05373074486851692,
          null,
          0.16272731125354767,
          0.1800592839717865,
          null,
          -0.16420716047286987,
          -0.11104494333267212,
          null,
          0.11083775013685226,
          -0.11104494333267212,
          null,
          -0.028058286756277084,
          -0.022874321788549423,
          null,
          0.0010808780789375305,
          -0.040458038449287415,
          null,
          -0.022874321788549423,
          -0.022583656013011932,
          null,
          -0.028058286756277084,
          -0.05366339907050133,
          null,
          0.14728234708309174,
          0.1935730278491974,
          null,
          -0.03058413788676262,
          -0.08320806175470352,
          null,
          -0.03551768511533737,
          -0.08320806175470352,
          null,
          0.19085463881492615,
          0.16442812979221344,
          null,
          -0.2349197417497635,
          -0.24007628858089447,
          null,
          0.11335263401269913,
          0.15390071272850037,
          null,
          -0.09915095567703247,
          -0.03551768511533737,
          null,
          -0.16420716047286987,
          -0.19526632130146027,
          null,
          0.19100768864154816,
          0.16442812979221344,
          null,
          -0.022583656013011932,
          -0.02275659516453743,
          null,
          0.14728234708309174,
          -0.16420716047286987,
          null,
          0.15390071272850037,
          0.16272731125354767,
          null,
          0.1935730278491974,
          0.19085463881492615,
          null
         ],
         "z": [
          0.044704869389534,
          0.029012326151132584,
          null,
          0.027743764221668243,
          -0.03685827553272247,
          null,
          -0.043795786798000336,
          -0.03685827553272247,
          null,
          0.6594735383987427,
          0.6551558971405029,
          null,
          0.23210807144641876,
          0.027743764221668243,
          null,
          -0.0025289924815297127,
          -0.37843918800354004,
          null,
          -0.6859170794487,
          -0.7303070425987244,
          null,
          0.48340651392936707,
          -0.0025289924815297127,
          null,
          -0.6581276059150696,
          -0.7719951272010803,
          null,
          0.6560789346694946,
          0.642066240310669,
          null,
          0.044704869389534,
          -0.03674090653657913,
          null,
          0.0032686609774827957,
          -0.3616248071193695,
          null,
          0.027743764221668243,
          0.015544570982456207,
          null,
          0.6539142727851868,
          0.6547594666481018,
          null,
          0.6547594666481018,
          0.6560789346694946,
          null,
          -0.6964184641838074,
          -0.7719951272010803,
          null,
          0.4724985659122467,
          0.0032686609774827957,
          null,
          -0.0025289924815297127,
          0.0032686609774827957,
          null,
          0.6195250153541565,
          0.6584857106208801,
          null,
          0.5999968647956848,
          0.5947487354278564,
          null,
          0.6584857106208801,
          0.6589234471321106,
          null,
          0.6195250153541565,
          0.6539142727851868,
          null,
          0.48340651392936707,
          0.2592450976371765,
          null,
          -0.7303070425987244,
          -0.7919687032699585,
          null,
          -0.6859170794487,
          -0.7919687032699585,
          null,
          0.044704869389534,
          -0.03758157789707184,
          null,
          0.027743764221668243,
          -0.043795786798000336,
          null,
          -0.37843918800354004,
          -0.6581276059150696,
          null,
          -0.3616248071193695,
          -0.6859170794487,
          null,
          0.4724985659122467,
          0.23210807144641876,
          null,
          -0.03674090653657913,
          -0.03758157789707184,
          null,
          0.6589234471321106,
          0.6594735383987427,
          null,
          0.48340651392936707,
          0.4724985659122467,
          null,
          -0.6581276059150696,
          -0.6964184641838074,
          null,
          0.2592450976371765,
          0.044704869389534,
          null
         ]
        }
       ],
       "layout": {
        "legend": {
         "tracegroupgap": 0
        },
        "margin": {
         "b": 0,
         "l": 0,
         "r": 0,
         "t": 0
        },
        "scene": {
         "camera": {
          "eye": {
           "x": 2.1,
           "y": 0,
           "z": 0
          }
         },
         "domain": {
          "x": [
           0,
           1
          ],
          "y": [
           0,
           1
          ]
         },
         "xaxis": {
          "title": {
           "text": "z"
          }
         },
         "yaxis": {
          "title": {
           "text": "x"
          }
         },
         "zaxis": {
          "title": {
           "text": "y"
          }
         }
        },
        "template": {
         "data": {
          "bar": [
           {
            "error_x": {
             "color": "#2a3f5f"
            },
            "error_y": {
             "color": "#2a3f5f"
            },
            "marker": {
             "line": {
              "color": "#E5ECF6",
              "width": 0.5
             },
             "pattern": {
              "fillmode": "overlay",
              "size": 10,
              "solidity": 0.2
             }
            },
            "type": "bar"
           }
          ],
          "barpolar": [
           {
            "marker": {
             "line": {
              "color": "#E5ECF6",
              "width": 0.5
             },
             "pattern": {
              "fillmode": "overlay",
              "size": 10,
              "solidity": 0.2
             }
            },
            "type": "barpolar"
           }
          ],
          "carpet": [
           {
            "aaxis": {
             "endlinecolor": "#2a3f5f",
             "gridcolor": "white",
             "linecolor": "white",
             "minorgridcolor": "white",
             "startlinecolor": "#2a3f5f"
            },
            "baxis": {
             "endlinecolor": "#2a3f5f",
             "gridcolor": "white",
             "linecolor": "white",
             "minorgridcolor": "white",
             "startlinecolor": "#2a3f5f"
            },
            "type": "carpet"
           }
          ],
          "choropleth": [
           {
            "colorbar": {
             "outlinewidth": 0,
             "ticks": ""
            },
            "type": "choropleth"
           }
          ],
          "contour": [
           {
            "colorbar": {
             "outlinewidth": 0,
             "ticks": ""
            },
            "colorscale": [
             [
              0,
              "#0d0887"
             ],
             [
              0.1111111111111111,
              "#46039f"
             ],
             [
              0.2222222222222222,
              "#7201a8"
             ],
             [
              0.3333333333333333,
              "#9c179e"
             ],
             [
              0.4444444444444444,
              "#bd3786"
             ],
             [
              0.5555555555555556,
              "#d8576b"
             ],
             [
              0.6666666666666666,
              "#ed7953"
             ],
             [
              0.7777777777777778,
              "#fb9f3a"
             ],
             [
              0.8888888888888888,
              "#fdca26"
             ],
             [
              1,
              "#f0f921"
             ]
            ],
            "type": "contour"
           }
          ],
          "contourcarpet": [
           {
            "colorbar": {
             "outlinewidth": 0,
             "ticks": ""
            },
            "type": "contourcarpet"
           }
          ],
          "heatmap": [
           {
            "colorbar": {
             "outlinewidth": 0,
             "ticks": ""
            },
            "colorscale": [
             [
              0,
              "#0d0887"
             ],
             [
              0.1111111111111111,
              "#46039f"
             ],
             [
              0.2222222222222222,
              "#7201a8"
             ],
             [
              0.3333333333333333,
              "#9c179e"
             ],
             [
              0.4444444444444444,
              "#bd3786"
             ],
             [
              0.5555555555555556,
              "#d8576b"
             ],
             [
              0.6666666666666666,
              "#ed7953"
             ],
             [
              0.7777777777777778,
              "#fb9f3a"
             ],
             [
              0.8888888888888888,
              "#fdca26"
             ],
             [
              1,
              "#f0f921"
             ]
            ],
            "type": "heatmap"
           }
          ],
          "heatmapgl": [
           {
            "colorbar": {
             "outlinewidth": 0,
             "ticks": ""
            },
            "colorscale": [
             [
              0,
              "#0d0887"
             ],
             [
              0.1111111111111111,
              "#46039f"
             ],
             [
              0.2222222222222222,
              "#7201a8"
             ],
             [
              0.3333333333333333,
              "#9c179e"
             ],
             [
              0.4444444444444444,
              "#bd3786"
             ],
             [
              0.5555555555555556,
              "#d8576b"
             ],
             [
              0.6666666666666666,
              "#ed7953"
             ],
             [
              0.7777777777777778,
              "#fb9f3a"
             ],
             [
              0.8888888888888888,
              "#fdca26"
             ],
             [
              1,
              "#f0f921"
             ]
            ],
            "type": "heatmapgl"
           }
          ],
          "histogram": [
           {
            "marker": {
             "pattern": {
              "fillmode": "overlay",
              "size": 10,
              "solidity": 0.2
             }
            },
            "type": "histogram"
           }
          ],
          "histogram2d": [
           {
            "colorbar": {
             "outlinewidth": 0,
             "ticks": ""
            },
            "colorscale": [
             [
              0,
              "#0d0887"
             ],
             [
              0.1111111111111111,
              "#46039f"
             ],
             [
              0.2222222222222222,
              "#7201a8"
             ],
             [
              0.3333333333333333,
              "#9c179e"
             ],
             [
              0.4444444444444444,
              "#bd3786"
             ],
             [
              0.5555555555555556,
              "#d8576b"
             ],
             [
              0.6666666666666666,
              "#ed7953"
             ],
             [
              0.7777777777777778,
              "#fb9f3a"
             ],
             [
              0.8888888888888888,
              "#fdca26"
             ],
             [
              1,
              "#f0f921"
             ]
            ],
            "type": "histogram2d"
           }
          ],
          "histogram2dcontour": [
           {
            "colorbar": {
             "outlinewidth": 0,
             "ticks": ""
            },
            "colorscale": [
             [
              0,
              "#0d0887"
             ],
             [
              0.1111111111111111,
              "#46039f"
             ],
             [
              0.2222222222222222,
              "#7201a8"
             ],
             [
              0.3333333333333333,
              "#9c179e"
             ],
             [
              0.4444444444444444,
              "#bd3786"
             ],
             [
              0.5555555555555556,
              "#d8576b"
             ],
             [
              0.6666666666666666,
              "#ed7953"
             ],
             [
              0.7777777777777778,
              "#fb9f3a"
             ],
             [
              0.8888888888888888,
              "#fdca26"
             ],
             [
              1,
              "#f0f921"
             ]
            ],
            "type": "histogram2dcontour"
           }
          ],
          "mesh3d": [
           {
            "colorbar": {
             "outlinewidth": 0,
             "ticks": ""
            },
            "type": "mesh3d"
           }
          ],
          "parcoords": [
           {
            "line": {
             "colorbar": {
              "outlinewidth": 0,
              "ticks": ""
             }
            },
            "type": "parcoords"
           }
          ],
          "pie": [
           {
            "automargin": true,
            "type": "pie"
           }
          ],
          "scatter": [
           {
            "fillpattern": {
             "fillmode": "overlay",
             "size": 10,
             "solidity": 0.2
            },
            "type": "scatter"
           }
          ],
          "scatter3d": [
           {
            "line": {
             "colorbar": {
              "outlinewidth": 0,
              "ticks": ""
             }
            },
            "marker": {
             "colorbar": {
              "outlinewidth": 0,
              "ticks": ""
             }
            },
            "type": "scatter3d"
           }
          ],
          "scattercarpet": [
           {
            "marker": {
             "colorbar": {
              "outlinewidth": 0,
              "ticks": ""
             }
            },
            "type": "scattercarpet"
           }
          ],
          "scattergeo": [
           {
            "marker": {
             "colorbar": {
              "outlinewidth": 0,
              "ticks": ""
             }
            },
            "type": "scattergeo"
           }
          ],
          "scattergl": [
           {
            "marker": {
             "colorbar": {
              "outlinewidth": 0,
              "ticks": ""
             }
            },
            "type": "scattergl"
           }
          ],
          "scattermapbox": [
           {
            "marker": {
             "colorbar": {
              "outlinewidth": 0,
              "ticks": ""
             }
            },
            "type": "scattermapbox"
           }
          ],
          "scatterpolar": [
           {
            "marker": {
             "colorbar": {
              "outlinewidth": 0,
              "ticks": ""
             }
            },
            "type": "scatterpolar"
           }
          ],
          "scatterpolargl": [
           {
            "marker": {
             "colorbar": {
              "outlinewidth": 0,
              "ticks": ""
             }
            },
            "type": "scatterpolargl"
           }
          ],
          "scatterternary": [
           {
            "marker": {
             "colorbar": {
              "outlinewidth": 0,
              "ticks": ""
             }
            },
            "type": "scatterternary"
           }
          ],
          "surface": [
           {
            "colorbar": {
             "outlinewidth": 0,
             "ticks": ""
            },
            "colorscale": [
             [
              0,
              "#0d0887"
             ],
             [
              0.1111111111111111,
              "#46039f"
             ],
             [
              0.2222222222222222,
              "#7201a8"
             ],
             [
              0.3333333333333333,
              "#9c179e"
             ],
             [
              0.4444444444444444,
              "#bd3786"
             ],
             [
              0.5555555555555556,
              "#d8576b"
             ],
             [
              0.6666666666666666,
              "#ed7953"
             ],
             [
              0.7777777777777778,
              "#fb9f3a"
             ],
             [
              0.8888888888888888,
              "#fdca26"
             ],
             [
              1,
              "#f0f921"
             ]
            ],
            "type": "surface"
           }
          ],
          "table": [
           {
            "cells": {
             "fill": {
              "color": "#EBF0F8"
             },
             "line": {
              "color": "white"
             }
            },
            "header": {
             "fill": {
              "color": "#C8D4E3"
             },
             "line": {
              "color": "white"
             }
            },
            "type": "table"
           }
          ]
         },
         "layout": {
          "annotationdefaults": {
           "arrowcolor": "#2a3f5f",
           "arrowhead": 0,
           "arrowwidth": 1
          },
          "autotypenumbers": "strict",
          "coloraxis": {
           "colorbar": {
            "outlinewidth": 0,
            "ticks": ""
           }
          },
          "colorscale": {
           "diverging": [
            [
             0,
             "#8e0152"
            ],
            [
             0.1,
             "#c51b7d"
            ],
            [
             0.2,
             "#de77ae"
            ],
            [
             0.3,
             "#f1b6da"
            ],
            [
             0.4,
             "#fde0ef"
            ],
            [
             0.5,
             "#f7f7f7"
            ],
            [
             0.6,
             "#e6f5d0"
            ],
            [
             0.7,
             "#b8e186"
            ],
            [
             0.8,
             "#7fbc41"
            ],
            [
             0.9,
             "#4d9221"
            ],
            [
             1,
             "#276419"
            ]
           ],
           "sequential": [
            [
             0,
             "#0d0887"
            ],
            [
             0.1111111111111111,
             "#46039f"
            ],
            [
             0.2222222222222222,
             "#7201a8"
            ],
            [
             0.3333333333333333,
             "#9c179e"
            ],
            [
             0.4444444444444444,
             "#bd3786"
            ],
            [
             0.5555555555555556,
             "#d8576b"
            ],
            [
             0.6666666666666666,
             "#ed7953"
            ],
            [
             0.7777777777777778,
             "#fb9f3a"
            ],
            [
             0.8888888888888888,
             "#fdca26"
            ],
            [
             1,
             "#f0f921"
            ]
           ],
           "sequentialminus": [
            [
             0,
             "#0d0887"
            ],
            [
             0.1111111111111111,
             "#46039f"
            ],
            [
             0.2222222222222222,
             "#7201a8"
            ],
            [
             0.3333333333333333,
             "#9c179e"
            ],
            [
             0.4444444444444444,
             "#bd3786"
            ],
            [
             0.5555555555555556,
             "#d8576b"
            ],
            [
             0.6666666666666666,
             "#ed7953"
            ],
            [
             0.7777777777777778,
             "#fb9f3a"
            ],
            [
             0.8888888888888888,
             "#fdca26"
            ],
            [
             1,
             "#f0f921"
            ]
           ]
          },
          "colorway": [
           "#636efa",
           "#EF553B",
           "#00cc96",
           "#ab63fa",
           "#FFA15A",
           "#19d3f3",
           "#FF6692",
           "#B6E880",
           "#FF97FF",
           "#FECB52"
          ],
          "font": {
           "color": "#2a3f5f"
          },
          "geo": {
           "bgcolor": "white",
           "lakecolor": "white",
           "landcolor": "#E5ECF6",
           "showlakes": true,
           "showland": true,
           "subunitcolor": "white"
          },
          "hoverlabel": {
           "align": "left"
          },
          "hovermode": "closest",
          "mapbox": {
           "style": "light"
          },
          "paper_bgcolor": "white",
          "plot_bgcolor": "#E5ECF6",
          "polar": {
           "angularaxis": {
            "gridcolor": "white",
            "linecolor": "white",
            "ticks": ""
           },
           "bgcolor": "#E5ECF6",
           "radialaxis": {
            "gridcolor": "white",
            "linecolor": "white",
            "ticks": ""
           }
          },
          "scene": {
           "xaxis": {
            "backgroundcolor": "#E5ECF6",
            "gridcolor": "white",
            "gridwidth": 2,
            "linecolor": "white",
            "showbackground": true,
            "ticks": "",
            "zerolinecolor": "white"
           },
           "yaxis": {
            "backgroundcolor": "#E5ECF6",
            "gridcolor": "white",
            "gridwidth": 2,
            "linecolor": "white",
            "showbackground": true,
            "ticks": "",
            "zerolinecolor": "white"
           },
           "zaxis": {
            "backgroundcolor": "#E5ECF6",
            "gridcolor": "white",
            "gridwidth": 2,
            "linecolor": "white",
            "showbackground": true,
            "ticks": "",
            "zerolinecolor": "white"
           }
          },
          "shapedefaults": {
           "line": {
            "color": "#2a3f5f"
           }
          },
          "ternary": {
           "aaxis": {
            "gridcolor": "white",
            "linecolor": "white",
            "ticks": ""
           },
           "baxis": {
            "gridcolor": "white",
            "linecolor": "white",
            "ticks": ""
           },
           "bgcolor": "#E5ECF6",
           "caxis": {
            "gridcolor": "white",
            "linecolor": "white",
            "ticks": ""
           }
          },
          "title": {
           "x": 0.05
          },
          "xaxis": {
           "automargin": true,
           "gridcolor": "white",
           "linecolor": "white",
           "ticks": "",
           "title": {
            "standoff": 15
           },
           "zerolinecolor": "white",
           "zerolinewidth": 2
          },
          "yaxis": {
           "automargin": true,
           "gridcolor": "white",
           "linecolor": "white",
           "ticks": "",
           "title": {
            "standoff": 15
           },
           "zerolinecolor": "white",
           "zerolinewidth": 2
          }
         }
        }
       }
      }
     },
     "metadata": {},
     "output_type": "display_data"
    }
   ],
   "source": [
    "\n",
    "plot_landmarks(\n",
    "        result.pose_world_landmarks,  mp_pose.POSE_CONNECTIONS)"
   ]
  },
  {
   "cell_type": "code",
   "execution_count": 30,
   "metadata": {},
   "outputs": [],
   "source": [
    "nose = [result.pose_world_landmarks.landmark[mp_pose.PoseLandmark.NOSE].x, result.pose_world_landmarks.landmark[mp_pose.PoseLandmark.NOSE].y]\n",
    "foot = [result.pose_world_landmarks.landmark[mp_pose.PoseLandmark.LEFT_FOOT_INDEX].x, result.pose_world_landmarks.landmark[mp_pose.PoseLandmark.LEFT_FOOT_INDEX].y]"
   ]
  },
  {
   "cell_type": "code",
   "execution_count": 31,
   "metadata": {},
   "outputs": [],
   "source": [
    "x_nose = [nose[0]]\n",
    "y_nose = [nose[1]]\n",
    "x_foot = [foot[0]]\n",
    "y_foot = [foot[1]]"
   ]
  },
  {
   "cell_type": "code",
   "execution_count": 32,
   "metadata": {},
   "outputs": [
    {
     "data": {
      "text/plain": [
       "[<matplotlib.lines.Line2D at 0x1cbe5ede040>]"
      ]
     },
     "execution_count": 32,
     "metadata": {},
     "output_type": "execute_result"
    },
    {
     "data": {
      "image/png": "[encoded data removed]",
      "text/plain": [
       "<Figure size 432x288 with 1 Axes>"
      ]
     },
     "metadata": {
      "needs_background": "light"
     },
     "output_type": "display_data"
    }
   ],
   "source": [
    "plt.plot(x_nose, y_nose, marker=\"o\", markersize=20, markeredgecolor=\"red\", markerfacecolor=\"red\")\n",
    "plt.plot(x_foot, y_foot, marker=\"o\", markersize=20, markeredgecolor=\"red\", markerfacecolor=\"red\")"
   ]
  },
  {
   "cell_type": "code",
   "execution_count": null,
   "metadata": {},
   "outputs": [],
   "source": []
  }
 ],
 "metadata": {
  "kernelspec": {
   "display_name": "Python 3.9.12 ('tf_gpu')",
   "language": "python",
   "name": "python3"
  },
  "language_info": {
   "codemirror_mode": {
    "name": "ipython",
    "version": 3
   },
   "file_extension": ".py",
   "mimetype": "text/x-python",
   "name": "python",
   "nbconvert_exporter": "python",
   "pygments_lexer": "ipython3",
   "version": "3.9.12"
  },
  "orig_nbformat": 4,
  "vscode": {
   "interpreter": {
    "hash": "deb65e8d8c8d3656d5eca6fd886d98fa2b79fbd5bd98f1dd28f9364634e8977d"
   }
  }
 },
 "nbformat": 4,
 "nbformat_minor": 2
}
